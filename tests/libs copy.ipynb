{
 "cells": [
  {
   "cell_type": "code",
   "execution_count": null,
   "id": "32b3edfb",
   "metadata": {},
   "outputs": [],
   "source": [
    "!pip install ipykernel"
   ]
  },
  {
   "cell_type": "code",
   "execution_count": null,
   "id": "9eacd1cd",
   "metadata": {},
   "outputs": [],
   "source": [
    "!pip list"
   ]
  },
  {
   "cell_type": "code",
   "execution_count": null,
   "id": "2d26b2b4",
   "metadata": {},
   "outputs": [],
   "source": [
    "!pip install basedosdados"
   ]
  },
  {
   "cell_type": "code",
   "execution_count": null,
   "id": "1a70f945",
   "metadata": {},
   "outputs": [],
   "source": [
    "!pip list"
   ]
  },
  {
   "cell_type": "code",
   "execution_count": null,
   "id": "a189f714",
   "metadata": {},
   "outputs": [],
   "source": [
    "!pip install --upgrade ipywidgets\n"
   ]
  },
  {
   "cell_type": "code",
   "execution_count": null,
   "id": "66e4a8f3",
   "metadata": {},
   "outputs": [],
   "source": [
    "!pip install --upgrade jupyterlab notebook\n"
   ]
  },
  {
   "cell_type": "code",
   "execution_count": null,
   "id": "8180bccb",
   "metadata": {},
   "outputs": [],
   "source": [
    "!pip install -q jupysql sqlalchemy duckdb duckdb-engine"
   ]
  },
  {
   "cell_type": "code",
   "execution_count": null,
   "id": "0868ec6b",
   "metadata": {},
   "outputs": [],
   "source": [
    "!pip install gcloud"
   ]
  },
  {
   "cell_type": "code",
   "execution_count": null,
   "id": "7db8af0a",
   "metadata": {},
   "outputs": [],
   "source": [
    "!pip install -q jupysql sqlalchemy sqlalchemy-bigquery google-cloud-bigquery pyarrow db-dtypes\n"
   ]
  },
  {
   "cell_type": "code",
   "execution_count": null,
   "id": "6c43b6d3",
   "metadata": {},
   "outputs": [],
   "source": [
    "%pip install -q pybigquery google-cloud-bigquery"
   ]
  },
  {
   "cell_type": "markdown",
   "id": "063db15e",
   "metadata": {},
   "source": [
    "# NO FIM RODAr"
   ]
  },
  {
   "cell_type": "code",
   "execution_count": null,
   "id": "d3b32e33",
   "metadata": {},
   "outputs": [],
   "source": [
    "& \"$Env:LOCALAPPDATA\\Google\\Cloud SDK\\google-cloud-sdk\\bin\\gcloud.cmd\" --version\n",
    "& \"$Env:LOCALAPPDATA\\Google\\Cloud SDK\\google-cloud-sdk\\bin\\gcloud.cmd\" auth application-default login\n"
   ]
  }
 ],
 "metadata": {
  "kernelspec": {
   "display_name": ".venv",
   "language": "python",
   "name": "python3"
  },
  "language_info": {
   "codemirror_mode": {
    "name": "ipython",
    "version": 3
   },
   "file_extension": ".py",
   "mimetype": "text/x-python",
   "name": "python",
   "nbconvert_exporter": "python",
   "pygments_lexer": "ipython3",
   "version": "3.9.13"
  }
 },
 "nbformat": 4,
 "nbformat_minor": 5
}
