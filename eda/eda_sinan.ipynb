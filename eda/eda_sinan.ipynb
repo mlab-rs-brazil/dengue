{
 "cells": [
  {
   "cell_type": "markdown",
   "id": "284ab064",
   "metadata": {},
   "source": [
    "# Sistema de Informação de Agravos de Notificação (SINAN)\n",
    "\n",
    "Esse notebook tem como objetivo realizar o ELT dos dados provenientes do SINAN que serão utilizados no projeto Dengue."
   ]
  },
  {
   "cell_type": "markdown",
   "id": "39b22b76",
   "metadata": {},
   "source": [
    "### Libs"
   ]
  },
  {
   "cell_type": "code",
   "execution_count": 15,
   "id": "451da28a",
   "metadata": {},
   "outputs": [],
   "source": [
    "%run ../config/bootstrap.py"
   ]
  },
  {
   "cell_type": "code",
   "execution_count": 16,
   "id": "675feea7",
   "metadata": {},
   "outputs": [],
   "source": [
    "import pandas as pd\n",
    "from utils import get_project_root, save_parquet_in_chunks , load_partitioned_parquet\n",
    "import basedosdados as bd"
   ]
  },
  {
   "cell_type": "code",
   "execution_count": 3,
   "id": "a4a04d70",
   "metadata": {},
   "outputs": [],
   "source": [
    "project_root = get_project_root() \n",
    "billing_id = 'barnabe-bq'"
   ]
  },
  {
   "cell_type": "code",
   "execution_count": null,
   "id": "8310ad74",
   "metadata": {},
   "outputs": [],
   "source": [
    "#%load_ext sql\n",
    "%reload_ext sql\n",
    "%config SqlMagic.autopandas = True\n",
    "%config SqlMagic.displaylimit = 100\n",
    "# gcloud auth application-default #login no terminal\n",
    "%sql bigquery://'barnabe-bq'\n",
    "#%%sql bigquery://'barnabe-bq'\n",
    "#%sql bigquery://barnabe-bq\n",
    "#%sql duckdb:///:memory:"
   ]
  },
  {
   "cell_type": "code",
   "execution_count": null,
   "id": "a37753d6",
   "metadata": {},
   "outputs": [],
   "source": [
    "# gcloud auth application-default login\n"
   ]
  },
  {
   "cell_type": "markdown",
   "id": "7fccce0d",
   "metadata": {},
   "source": [
    "# Datasets"
   ]
  },
  {
   "cell_type": "code",
   "execution_count": null,
   "id": "3791a66c",
   "metadata": {},
   "outputs": [],
   "source": [
    "dieese = pd.read_csv(f'{project_root}/data/bronze/dieese/dieese.csv', sep=';', encoding='latin1')\n",
    "dieese = pd.read_csv(f'{project_root}/data/bronze/dieese/dieese.csv', sep=';', encoding='latin1')"
   ]
  }
 ],
 "metadata": {
  "kernelspec": {
   "display_name": "Python 3",
   "language": "python",
   "name": "python3"
  },
  "language_info": {
   "codemirror_mode": {
    "name": "ipython",
    "version": 3
   },
   "file_extension": ".py",
   "mimetype": "text/x-python",
   "name": "python",
   "nbconvert_exporter": "python",
   "pygments_lexer": "ipython3",
   "version": "3.9.21"
  }
 },
 "nbformat": 4,
 "nbformat_minor": 5
}
