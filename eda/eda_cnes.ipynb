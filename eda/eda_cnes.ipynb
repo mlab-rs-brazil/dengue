{
 "cells": [
  {
   "cell_type": "markdown",
   "id": "78aa42b6",
   "metadata": {},
   "source": [
    "# Exploratory Data Analysis (EDA)"
   ]
  },
  {
   "cell_type": "code",
   "execution_count": null,
   "id": "a17accd4",
   "metadata": {},
   "outputs": [],
   "source": [
    "%run ../config/bootstrap.py\n",
    "from utils import get_project_root, load_partitioned_parquet  \n",
    "import pandas as pd\n",
    "\n",
    "import numpy as np \n",
    "from ydata_profiling import ProfileReport"
   ]
  },
  {
   "cell_type": "code",
   "execution_count": null,
   "id": "0c188220",
   "metadata": {},
   "outputs": [],
   "source": [
    "\n",
    "project_root = get_project_root() \n",
    "project_root"
   ]
  },
  {
   "cell_type": "markdown",
   "id": "5001c3c4",
   "metadata": {},
   "source": [
    "# Datasets"
   ]
  },
  {
   "cell_type": "code",
   "execution_count": null,
   "id": "2b2e49de",
   "metadata": {},
   "outputs": [],
   "source": [
    "path = project_root / \"data/4_gold/cnes/dim_cnes/dim_cnes_part_1.parquet\"\n",
    "gold_df = pd.read_parquet(path)\n",
    "gold_df.head()"
   ]
  },
  {
   "cell_type": "code",
   "execution_count": null,
   "id": "bcfa6824",
   "metadata": {},
   "outputs": [],
   "source": [
    "gold_df.columns"
   ]
  },
  {
   "cell_type": "code",
   "execution_count": null,
   "id": "12a465b9",
   "metadata": {},
   "outputs": [],
   "source": [
    "eda_cols = [ 'id_pfpj',\n",
    "       'nivel_dep',# 'no_razao_social', 'no_fantasia', 'no_logradouro',\n",
    "       #'nu_endereco', 'no_complemento', 'no_bairro',\n",
    "       'id_regiao_saude', 'id_micro_regiao', 'id_distrito_sanitario',\n",
    "       'id_distrito_administrativo', 'nu_telefone', 'nu_fax', 'no_email',\n",
    "     'id_atividade', 'id_clientela',# 'nu_alvara',\n",
    "       'data_expedicao', 'id_orgao_expedidor', 'data_val_lic_sani',\n",
    "       'id_lic_sani', 'id_unidade', 'id_turno_atendimento', 'id_estado_gestor',\n",
    "       'id_municipio_gestor', 'data_atualizacao', 'id_usuario',\n",
    "       'id_cpfdiretorcln', 'reg_diretorcln', 'st_adesao_filantrop',\n",
    "       'id_motivo_desab', 'no_url', #'nu_latitude', 'nu_longitude',\n",
    "       'data_atualizacao_geolocalizacao', 'no_usuario_geo', 'id_natureza_jur',\n",
    "       'id_estab_sempre_aberto', 'st_geracredito_gerente_sgif',\n",
    "       'st_conexao_internet', 'id_tipo_unidade', 'no_fantasia_abrev',\n",
    "       'id_gestao', 'data_atualizacao_origem', 'id_tipo_estabelecimento',\n",
    "       'id_atividade_principal', 'st_contrato_formalizado',\n",
    "       'id_tipo_abrangencia', 'st_coworking']"
   ]
  },
  {
   "cell_type": "code",
   "execution_count": null,
   "id": "0fc60a66",
   "metadata": {},
   "outputs": [],
   "source": [
    "profile = ProfileReport(gold_df[eda_cols], title=\"Profiling Report\")\n"
   ]
  },
  {
   "cell_type": "code",
   "execution_count": null,
   "id": "b58f85b7",
   "metadata": {},
   "outputs": [],
   "source": [
    "profile.to_file(\"cnes_eda.html\")"
   ]
  }
 ],
 "metadata": {
  "kernelspec": {
   "display_name": ".venv",
   "language": "python",
   "name": "python3"
  },
  "language_info": {
   "codemirror_mode": {
    "name": "ipython",
    "version": 3
   },
   "file_extension": ".py",
   "mimetype": "text/x-python",
   "name": "python",
   "nbconvert_exporter": "python",
   "pygments_lexer": "ipython3",
   "version": "3.9.13"
  }
 },
 "nbformat": 4,
 "nbformat_minor": 5
}
