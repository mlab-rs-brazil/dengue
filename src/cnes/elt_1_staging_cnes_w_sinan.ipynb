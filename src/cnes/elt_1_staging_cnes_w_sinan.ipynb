{
 "cells": [
  {
   "cell_type": "markdown",
   "id": "284ab064",
   "metadata": {},
   "source": [
    "# CNES com Notificacoes no SINAN\n",
    "\n",
    " "
   ]
  },
  {
   "cell_type": "markdown",
   "id": "39b22b76",
   "metadata": {},
   "source": [
    "### Libs"
   ]
  },
  {
   "cell_type": "code",
   "execution_count": 1,
   "id": "451da28a",
   "metadata": {},
   "outputs": [],
   "source": [
    "%run ../../config/bootstrap.py"
   ]
  },
  {
   "cell_type": "code",
   "execution_count": 2,
   "id": "a317aa84",
   "metadata": {},
   "outputs": [],
   "source": [
    "import pandas as pd\n",
    "from datetime import datetime \n",
    "from utils import get_project_root, save_parquet_in_chunks  \n",
    "import basedosdados as bd"
   ]
  },
  {
   "cell_type": "code",
   "execution_count": 3,
   "id": "cd1161b5",
   "metadata": {},
   "outputs": [],
   "source": [
    "project_root = get_project_root() \n",
    "#billing_id = 'ufrgs-ppgc-dengue'"
   ]
  },
  {
   "cell_type": "code",
   "execution_count": 4,
   "id": "f8a6bb9a",
   "metadata": {},
   "outputs": [
    {
     "data": {
      "text/html": [
       "<span style=\"None\">Connecting to &#x27;bigquery://ufrgs-ppgc-dengue&#x27;</span>"
      ],
      "text/plain": [
       "Connecting to 'bigquery://ufrgs-ppgc-dengue'"
      ]
     },
     "metadata": {},
     "output_type": "display_data"
    }
   ],
   "source": [
    "#%load_ext sql\n",
    "%reload_ext sql\n",
    "%config SqlMagic.autopandas = True\n",
    "%config SqlMagic.displaylimit = 100\n",
    "%sql bigquery://ufrgs-ppgc-dengue"
   ]
  },
  {
   "cell_type": "markdown",
   "id": "dfccb555",
   "metadata": {},
   "source": [
    "# Dicionário"
   ]
  },
  {
   "cell_type": "markdown",
   "id": "6089df56",
   "metadata": {},
   "source": [
    "## ⌛ Staging\n"
   ]
  },
  {
   "cell_type": "code",
   "execution_count": 6,
   "id": "7f1ce0dc",
   "metadata": {},
   "outputs": [],
   "source": [
    "output = project_root / \"data/1_staging/sinan/cnes_w_notifications\""
   ]
  },
  {
   "cell_type": "code",
   "execution_count": 7,
   "id": "0f6b7de3",
   "metadata": {},
   "outputs": [
    {
     "data": {
      "text/plain": [
       "WindowsPath('C:/Users/silma/OneDrive/Área de Trabalho/Projetos/dengue/data/1_staging/sinan/cnes_w_notifications')"
      ]
     },
     "execution_count": 7,
     "metadata": {},
     "output_type": "execute_result"
    }
   ],
   "source": [
    "output"
   ]
  },
  {
   "cell_type": "code",
   "execution_count": 8,
   "id": "eef1a5ea",
   "metadata": {},
   "outputs": [
    {
     "data": {
      "text/html": [
       "<span style=\"None\">Running query in &#x27;bigquery://ufrgs-ppgc-dengue&#x27;</span>"
      ],
      "text/plain": [
       "Running query in 'bigquery://ufrgs-ppgc-dengue'"
      ]
     },
     "metadata": {},
     "output_type": "display_data"
    },
    {
     "data": {
      "text/html": [
       "<span style=\"color: green\">77895 rows affected.</span>"
      ],
      "text/plain": [
       "77895 rows affected."
      ]
     },
     "metadata": {},
     "output_type": "display_data"
    }
   ],
   "source": [
    "%%sql df <<\n",
    "SELECT id_estabelecimento, count(*) as qt FROM `basedosdados.br_ms_sinan.microdados_dengue` group by 1 order by 2 desc "
   ]
  },
  {
   "cell_type": "code",
   "execution_count": 9,
   "id": "84485aec",
   "metadata": {},
   "outputs": [
    {
     "data": {
      "application/vnd.jupyter.widget-view+json": {
       "model_id": "f97db06515d1402088b87fa4cae17b4c",
       "version_major": 2,
       "version_minor": 0
      },
      "text/plain": [
       "Salvando arquivos Parquet:   0%|          | 0/77895 [00:00<?, ?linhas/s]"
      ]
     },
     "metadata": {},
     "output_type": "display_data"
    },
    {
     "name": "stdout",
     "output_type": "stream",
     "text": [
      "✔️ cnes_w_notifications_part_1.parquet salvo com 0.46 MB (77895 linhas)\n",
      "✅ Todos os arquivos salvos com sucesso.\n"
     ]
    }
   ],
   "source": [
    "save_parquet_in_chunks(df,output,50,compression='brotli')"
   ]
  }
 ],
 "metadata": {
  "kernelspec": {
   "display_name": ".venv",
   "language": "python",
   "name": "python3"
  },
  "language_info": {
   "codemirror_mode": {
    "name": "ipython",
    "version": 3
   },
   "file_extension": ".py",
   "mimetype": "text/x-python",
   "name": "python",
   "nbconvert_exporter": "python",
   "pygments_lexer": "ipython3",
   "version": "3.9.13"
  }
 },
 "nbformat": 4,
 "nbformat_minor": 5
}
