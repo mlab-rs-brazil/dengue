{
 "cells": [
  {
   "cell_type": "markdown",
   "id": "380ea86b",
   "metadata": {},
   "source": [
    "# Cadastro Nacional de Estabelecimentos de Saúde (CNES)\n",
    "\n",
    "Esse notebook tem como objetivo realizar o ELT dos dados provenientes do CNES que serão utilizados no projeto Dengue.\n",
    "\n",
    "\n",
    "Fonte [basedosdados.org](https://basedosdados.org/dataset/354d6d98-bc09-4e22-a58a-e4eac3a5283c?table=72505728-8867-4b6f-8afd-b732de55854e)"
   ]
  },
  {
   "cell_type": "markdown",
   "id": "e031cc27",
   "metadata": {},
   "source": [
    "### Libs"
   ]
  },
  {
   "cell_type": "code",
   "execution_count": 1,
   "id": "4a14b3c2",
   "metadata": {},
   "outputs": [],
   "source": [
    "%run ../../config/bootstrap.py"
   ]
  },
  {
   "cell_type": "code",
   "execution_count": 2,
   "id": "c56134fd",
   "metadata": {},
   "outputs": [],
   "source": [
    "import pandas as pd\n",
    "from utils import get_project_root, save_parquet_in_chunks  \n",
    "import basedosdados as bd"
   ]
  },
  {
   "cell_type": "code",
   "execution_count": 3,
   "id": "8459e6bf",
   "metadata": {},
   "outputs": [],
   "source": [
    "project_root = get_project_root() \n",
    "#billing_id = 'ufrgs-ppgc-dengue'"
   ]
  },
  {
   "cell_type": "code",
   "execution_count": 4,
   "id": "86e429a6",
   "metadata": {},
   "outputs": [
    {
     "data": {
      "text/html": [
       "<span style=\"None\">Connecting to &#x27;bigquery://ufrgs-ppgc-dengue&#x27;</span>"
      ],
      "text/plain": [
       "Connecting to 'bigquery://ufrgs-ppgc-dengue'"
      ]
     },
     "metadata": {},
     "output_type": "display_data"
    }
   ],
   "source": [
    "#%load_ext sql\n",
    "%reload_ext sql\n",
    "%config SqlMagic.autopandas = True\n",
    "%config SqlMagic.displaylimit = 100\n",
    "%sql bigquery://ufrgs-ppgc-dengue"
   ]
  },
  {
   "cell_type": "code",
   "execution_count": null,
   "id": "9d201621",
   "metadata": {},
   "outputs": [],
   "source": [
    "%%sql df <<\n",
    "SELECT id_estabelecimento, count(*) as qt FROM `basedosdados.br_ms_sinan.microdados_dengue` group by 1 order by 2 desc "
   ]
  }
 ],
 "metadata": {
  "kernelspec": {
   "display_name": ".venv",
   "language": "python",
   "name": "python3"
  },
  "language_info": {
   "codemirror_mode": {
    "name": "ipython",
    "version": 3
   },
   "file_extension": ".py",
   "mimetype": "text/x-python",
   "name": "python",
   "nbconvert_exporter": "python",
   "pygments_lexer": "ipython3",
   "version": "3.9.13"
  }
 },
 "nbformat": 4,
 "nbformat_minor": 5
}
