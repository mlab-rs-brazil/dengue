{
 "cells": [
  {
   "cell_type": "markdown",
   "id": "5599939c",
   "metadata": {},
   "source": [
    "# ELT Dieese"
   ]
  },
  {
   "cell_type": "code",
   "execution_count": 14,
   "id": "10b9e195",
   "metadata": {},
   "outputs": [],
   "source": [
    "%run ../../config/bootstrap.py\n",
    "from utils import get_project_root,build_row_hash\n",
    "from pathlib import Path \n",
    "#from pandas_scd import scd2\n",
    "import pandas as pd\n",
    "from datetime import datetime"
   ]
  },
  {
   "cell_type": "code",
   "execution_count": 2,
   "id": "252a5d87",
   "metadata": {},
   "outputs": [
    {
     "data": {
      "text/plain": [
       "PosixPath('/Users/silmara.barnabe/Desktop/dengue')"
      ]
     },
     "execution_count": 2,
     "metadata": {},
     "output_type": "execute_result"
    }
   ],
   "source": [
    "\n",
    "project_root = get_project_root() \n",
    "project_root"
   ]
  },
  {
   "cell_type": "markdown",
   "id": "7452d5a5",
   "metadata": {},
   "source": [
    "## ⌛ Staging\n"
   ]
  },
  {
   "cell_type": "code",
   "execution_count": 3,
   "id": "8c433893",
   "metadata": {},
   "outputs": [],
   "source": [
    "df_stg = pd.read_excel(\n",
    "    project_root / \"data/staging/dieese/dieese_dataset_201001_202504.xls\",\n",
    "    engine=\"xlrd\",\n",
    "    header=1\n",
    ")"
   ]
  },
  {
   "cell_type": "code",
   "execution_count": 4,
   "id": "9f10b6a8",
   "metadata": {},
   "outputs": [
    {
     "data": {
      "text/html": [
       "<div>\n",
       "<style scoped>\n",
       "    .dataframe tbody tr th:only-of-type {\n",
       "        vertical-align: middle;\n",
       "    }\n",
       "\n",
       "    .dataframe tbody tr th {\n",
       "        vertical-align: top;\n",
       "    }\n",
       "\n",
       "    .dataframe thead th {\n",
       "        text-align: right;\n",
       "    }\n",
       "</style>\n",
       "<table border=\"1\" class=\"dataframe\">\n",
       "  <thead>\n",
       "    <tr style=\"text-align: right;\">\n",
       "      <th></th>\n",
       "      <th>Unnamed: 0</th>\n",
       "      <th>Brasília</th>\n",
       "      <th>Campo Grande</th>\n",
       "      <th>Cuiabá</th>\n",
       "      <th>Goiânia</th>\n",
       "      <th>Belo Horizonte</th>\n",
       "      <th>Rio de Janeiro</th>\n",
       "      <th>São Paulo</th>\n",
       "      <th>Vitória</th>\n",
       "      <th>Curitiba</th>\n",
       "      <th>Florianópolis</th>\n",
       "      <th>Porto Alegre</th>\n",
       "      <th>Belém</th>\n",
       "      <th>Boa Vista</th>\n",
       "      <th>Macapá</th>\n",
       "      <th>Manaus</th>\n",
       "      <th>Palmas</th>\n",
       "      <th>Porto Velho</th>\n",
       "      <th>Rio Branco</th>\n",
       "      <th>Aracaju</th>\n",
       "      <th>Fortaleza</th>\n",
       "      <th>João Pessoa</th>\n",
       "      <th>Maceió</th>\n",
       "      <th>Natal</th>\n",
       "      <th>Recife</th>\n",
       "      <th>Salvador</th>\n",
       "      <th>São Luís</th>\n",
       "      <th>Teresina</th>\n",
       "      <th>Macaé</th>\n",
       "    </tr>\n",
       "  </thead>\n",
       "  <tbody>\n",
       "    <tr>\n",
       "      <th>0</th>\n",
       "      <td>01-2010</td>\n",
       "      <td>214.47</td>\n",
       "      <td>NaN</td>\n",
       "      <td>NaN</td>\n",
       "      <td>199.71</td>\n",
       "      <td>205.69</td>\n",
       "      <td>213.77</td>\n",
       "      <td>225.02</td>\n",
       "      <td>217.20</td>\n",
       "      <td>211.99</td>\n",
       "      <td>213.23</td>\n",
       "      <td>236.55</td>\n",
       "      <td>204.62</td>\n",
       "      <td>NaN</td>\n",
       "      <td>NaN</td>\n",
       "      <td>216.53</td>\n",
       "      <td>NaN</td>\n",
       "      <td>NaN</td>\n",
       "      <td>NaN</td>\n",
       "      <td>169.13</td>\n",
       "      <td>175.86</td>\n",
       "      <td>171.97</td>\n",
       "      <td>NaN</td>\n",
       "      <td>186.72</td>\n",
       "      <td>172.29</td>\n",
       "      <td>185.77</td>\n",
       "      <td>NaN</td>\n",
       "      <td>NaN</td>\n",
       "      <td>NaN</td>\n",
       "    </tr>\n",
       "    <tr>\n",
       "      <th>1</th>\n",
       "      <td>02-2010</td>\n",
       "      <td>216.89</td>\n",
       "      <td>NaN</td>\n",
       "      <td>NaN</td>\n",
       "      <td>190.63</td>\n",
       "      <td>216.51</td>\n",
       "      <td>221.80</td>\n",
       "      <td>229.64</td>\n",
       "      <td>224.74</td>\n",
       "      <td>215.61</td>\n",
       "      <td>217.59</td>\n",
       "      <td>238.46</td>\n",
       "      <td>204.93</td>\n",
       "      <td>NaN</td>\n",
       "      <td>NaN</td>\n",
       "      <td>223.90</td>\n",
       "      <td>NaN</td>\n",
       "      <td>NaN</td>\n",
       "      <td>NaN</td>\n",
       "      <td>169.57</td>\n",
       "      <td>176.89</td>\n",
       "      <td>179.28</td>\n",
       "      <td>NaN</td>\n",
       "      <td>193.50</td>\n",
       "      <td>184.08</td>\n",
       "      <td>198.24</td>\n",
       "      <td>NaN</td>\n",
       "      <td>NaN</td>\n",
       "      <td>NaN</td>\n",
       "    </tr>\n",
       "    <tr>\n",
       "      <th>2</th>\n",
       "      <td>03-2010</td>\n",
       "      <td>236.41</td>\n",
       "      <td>NaN</td>\n",
       "      <td>NaN</td>\n",
       "      <td>206.91</td>\n",
       "      <td>224.37</td>\n",
       "      <td>240.22</td>\n",
       "      <td>253.74</td>\n",
       "      <td>232.23</td>\n",
       "      <td>231.30</td>\n",
       "      <td>229.80</td>\n",
       "      <td>257.07</td>\n",
       "      <td>215.72</td>\n",
       "      <td>NaN</td>\n",
       "      <td>NaN</td>\n",
       "      <td>231.31</td>\n",
       "      <td>NaN</td>\n",
       "      <td>NaN</td>\n",
       "      <td>NaN</td>\n",
       "      <td>181.70</td>\n",
       "      <td>182.43</td>\n",
       "      <td>196.29</td>\n",
       "      <td>NaN</td>\n",
       "      <td>199.14</td>\n",
       "      <td>202.01</td>\n",
       "      <td>208.71</td>\n",
       "      <td>NaN</td>\n",
       "      <td>NaN</td>\n",
       "      <td>NaN</td>\n",
       "    </tr>\n",
       "    <tr>\n",
       "      <th>3</th>\n",
       "      <td>04-2010</td>\n",
       "      <td>237.76</td>\n",
       "      <td>NaN</td>\n",
       "      <td>NaN</td>\n",
       "      <td>206.46</td>\n",
       "      <td>239.06</td>\n",
       "      <td>253.13</td>\n",
       "      <td>261.39</td>\n",
       "      <td>244.07</td>\n",
       "      <td>238.71</td>\n",
       "      <td>239.67</td>\n",
       "      <td>268.72</td>\n",
       "      <td>227.04</td>\n",
       "      <td>NaN</td>\n",
       "      <td>NaN</td>\n",
       "      <td>241.52</td>\n",
       "      <td>NaN</td>\n",
       "      <td>NaN</td>\n",
       "      <td>NaN</td>\n",
       "      <td>184.97</td>\n",
       "      <td>187.21</td>\n",
       "      <td>203.86</td>\n",
       "      <td>NaN</td>\n",
       "      <td>223.22</td>\n",
       "      <td>214.48</td>\n",
       "      <td>220.00</td>\n",
       "      <td>NaN</td>\n",
       "      <td>NaN</td>\n",
       "      <td>NaN</td>\n",
       "    </tr>\n",
       "    <tr>\n",
       "      <th>4</th>\n",
       "      <td>05-2010</td>\n",
       "      <td>233.25</td>\n",
       "      <td>NaN</td>\n",
       "      <td>NaN</td>\n",
       "      <td>212.07</td>\n",
       "      <td>240.47</td>\n",
       "      <td>240.36</td>\n",
       "      <td>256.31</td>\n",
       "      <td>242.85</td>\n",
       "      <td>233.49</td>\n",
       "      <td>235.89</td>\n",
       "      <td>256.86</td>\n",
       "      <td>221.74</td>\n",
       "      <td>NaN</td>\n",
       "      <td>NaN</td>\n",
       "      <td>249.39</td>\n",
       "      <td>NaN</td>\n",
       "      <td>NaN</td>\n",
       "      <td>NaN</td>\n",
       "      <td>187.10</td>\n",
       "      <td>185.73</td>\n",
       "      <td>200.09</td>\n",
       "      <td>NaN</td>\n",
       "      <td>219.57</td>\n",
       "      <td>216.85</td>\n",
       "      <td>216.18</td>\n",
       "      <td>NaN</td>\n",
       "      <td>NaN</td>\n",
       "      <td>NaN</td>\n",
       "    </tr>\n",
       "  </tbody>\n",
       "</table>\n",
       "</div>"
      ],
      "text/plain": [
       "  Unnamed: 0  Brasília  Campo Grande  Cuiabá  Goiânia  Belo Horizonte  \\\n",
       "0    01-2010    214.47           NaN     NaN   199.71          205.69   \n",
       "1    02-2010    216.89           NaN     NaN   190.63          216.51   \n",
       "2    03-2010    236.41           NaN     NaN   206.91          224.37   \n",
       "3    04-2010    237.76           NaN     NaN   206.46          239.06   \n",
       "4    05-2010    233.25           NaN     NaN   212.07          240.47   \n",
       "\n",
       "   Rio de Janeiro  São Paulo  Vitória  Curitiba  Florianópolis  Porto Alegre  \\\n",
       "0          213.77     225.02   217.20    211.99         213.23        236.55   \n",
       "1          221.80     229.64   224.74    215.61         217.59        238.46   \n",
       "2          240.22     253.74   232.23    231.30         229.80        257.07   \n",
       "3          253.13     261.39   244.07    238.71         239.67        268.72   \n",
       "4          240.36     256.31   242.85    233.49         235.89        256.86   \n",
       "\n",
       "    Belém  Boa Vista  Macapá  Manaus  Palmas  Porto Velho  Rio Branco  \\\n",
       "0  204.62        NaN     NaN  216.53     NaN          NaN         NaN   \n",
       "1  204.93        NaN     NaN  223.90     NaN          NaN         NaN   \n",
       "2  215.72        NaN     NaN  231.31     NaN          NaN         NaN   \n",
       "3  227.04        NaN     NaN  241.52     NaN          NaN         NaN   \n",
       "4  221.74        NaN     NaN  249.39     NaN          NaN         NaN   \n",
       "\n",
       "   Aracaju  Fortaleza  João Pessoa  Maceió   Natal  Recife  Salvador  \\\n",
       "0   169.13     175.86       171.97     NaN  186.72  172.29    185.77   \n",
       "1   169.57     176.89       179.28     NaN  193.50  184.08    198.24   \n",
       "2   181.70     182.43       196.29     NaN  199.14  202.01    208.71   \n",
       "3   184.97     187.21       203.86     NaN  223.22  214.48    220.00   \n",
       "4   187.10     185.73       200.09     NaN  219.57  216.85    216.18   \n",
       "\n",
       "   São Luís  Teresina  Macaé  \n",
       "0       NaN       NaN    NaN  \n",
       "1       NaN       NaN    NaN  \n",
       "2       NaN       NaN    NaN  \n",
       "3       NaN       NaN    NaN  \n",
       "4       NaN       NaN    NaN  "
      ]
     },
     "execution_count": 4,
     "metadata": {},
     "output_type": "execute_result"
    }
   ],
   "source": [
    "df_stg.head()"
   ]
  },
  {
   "cell_type": "markdown",
   "id": "30be651c",
   "metadata": {},
   "source": [
    "## 🥉 Bronze"
   ]
  },
  {
   "cell_type": "code",
   "execution_count": 5,
   "id": "910fe154",
   "metadata": {},
   "outputs": [
    {
     "data": {
      "text/html": [
       "<div>\n",
       "<style scoped>\n",
       "    .dataframe tbody tr th:only-of-type {\n",
       "        vertical-align: middle;\n",
       "    }\n",
       "\n",
       "    .dataframe tbody tr th {\n",
       "        vertical-align: top;\n",
       "    }\n",
       "\n",
       "    .dataframe thead th {\n",
       "        text-align: right;\n",
       "    }\n",
       "</style>\n",
       "<table border=\"1\" class=\"dataframe\">\n",
       "  <thead>\n",
       "    <tr style=\"text-align: right;\">\n",
       "      <th></th>\n",
       "      <th>data</th>\n",
       "      <th>municipio</th>\n",
       "      <th>vlr_cesta_basica</th>\n",
       "    </tr>\n",
       "  </thead>\n",
       "  <tbody>\n",
       "    <tr>\n",
       "      <th>0</th>\n",
       "      <td>01-01-2010</td>\n",
       "      <td>Brasília</td>\n",
       "      <td>214.47</td>\n",
       "    </tr>\n",
       "    <tr>\n",
       "      <th>1</th>\n",
       "      <td>01-02-2010</td>\n",
       "      <td>Brasília</td>\n",
       "      <td>216.89</td>\n",
       "    </tr>\n",
       "    <tr>\n",
       "      <th>2</th>\n",
       "      <td>01-03-2010</td>\n",
       "      <td>Brasília</td>\n",
       "      <td>236.41</td>\n",
       "    </tr>\n",
       "    <tr>\n",
       "      <th>3</th>\n",
       "      <td>01-04-2010</td>\n",
       "      <td>Brasília</td>\n",
       "      <td>237.76</td>\n",
       "    </tr>\n",
       "    <tr>\n",
       "      <th>4</th>\n",
       "      <td>01-05-2010</td>\n",
       "      <td>Brasília</td>\n",
       "      <td>233.25</td>\n",
       "    </tr>\n",
       "  </tbody>\n",
       "</table>\n",
       "</div>"
      ],
      "text/plain": [
       "         data municipio  vlr_cesta_basica\n",
       "0  01-01-2010  Brasília            214.47\n",
       "1  01-02-2010  Brasília            216.89\n",
       "2  01-03-2010  Brasília            236.41\n",
       "3  01-04-2010  Brasília            237.76\n",
       "4  01-05-2010  Brasília            233.25"
      ]
     },
     "execution_count": 5,
     "metadata": {},
     "output_type": "execute_result"
    }
   ],
   "source": [
    "\n",
    "df_stg = df_stg.rename(columns={df_stg.columns[0]: \"data\"})  \n",
    "df_bronze = (\n",
    "    df_stg\n",
    "      .melt(id_vars=\"data\",          # mantém a coluna data\n",
    "            var_name=\"municipio\",    # novos rótulos das colunas “largas”\n",
    "            value_name=\"vlr_cesta_basica\")  # valores das antigas colunas\n",
    "      .dropna(subset=[\"vlr_cesta_basica\"])  # remove linhas sem valor\n",
    "      .reset_index(drop=True)        # limpa o índice\n",
    ")\n",
    "\n",
    "# opcional: converte a coluna data para datetime se quiser filtrar por datas depois\n",
    "df_bronze[\"data\"] = \"01-\"+df_bronze[\"data\"]\n",
    "\n",
    "df_bronze.head()"
   ]
  },
  {
   "cell_type": "code",
   "execution_count": null,
   "id": "f1aab931",
   "metadata": {},
   "outputs": [],
   "source": [
    "output_path = project_root / \"data\" / \"bronze\" / \"dieese\" / \"dieese.csv\"\n",
    "output_path.parent.mkdir(parents=True, exist_ok=True)\n",
    "df_bronze.to_csv(output_path, index=False)\n"
   ]
  },
  {
   "cell_type": "code",
   "execution_count": 9,
   "id": "0e04c5b4",
   "metadata": {},
   "outputs": [
    {
     "data": {
      "text/plain": [
       "PosixPath('/Users/silmara.barnabe/Desktop/dengue/data/bronze/dieese/dieese.csv')"
      ]
     },
     "execution_count": 9,
     "metadata": {},
     "output_type": "execute_result"
    }
   ],
   "source": [
    "output_path"
   ]
  },
  {
   "cell_type": "markdown",
   "id": "45b3cbc1",
   "metadata": {},
   "source": [
    "## 🥈 Silver"
   ]
  },
  {
   "cell_type": "code",
   "execution_count": 22,
   "id": "c726a7c5",
   "metadata": {},
   "outputs": [],
   "source": [
    "output_path = project_root / \"data\" / \"bronze\" / \"dieese\" / \"dieese.csv\""
   ]
  },
  {
   "cell_type": "code",
   "execution_count": 23,
   "id": "88359288",
   "metadata": {},
   "outputs": [
    {
     "data": {
      "text/html": [
       "<div>\n",
       "<style scoped>\n",
       "    .dataframe tbody tr th:only-of-type {\n",
       "        vertical-align: middle;\n",
       "    }\n",
       "\n",
       "    .dataframe tbody tr th {\n",
       "        vertical-align: top;\n",
       "    }\n",
       "\n",
       "    .dataframe thead th {\n",
       "        text-align: right;\n",
       "    }\n",
       "</style>\n",
       "<table border=\"1\" class=\"dataframe\">\n",
       "  <thead>\n",
       "    <tr style=\"text-align: right;\">\n",
       "      <th></th>\n",
       "      <th>data</th>\n",
       "      <th>municipio</th>\n",
       "      <th>vlr_cesta_basica</th>\n",
       "    </tr>\n",
       "  </thead>\n",
       "  <tbody>\n",
       "    <tr>\n",
       "      <th>0</th>\n",
       "      <td>01-01-2010</td>\n",
       "      <td>Brasília</td>\n",
       "      <td>214.47</td>\n",
       "    </tr>\n",
       "    <tr>\n",
       "      <th>1</th>\n",
       "      <td>01-02-2010</td>\n",
       "      <td>Brasília</td>\n",
       "      <td>216.89</td>\n",
       "    </tr>\n",
       "    <tr>\n",
       "      <th>2</th>\n",
       "      <td>01-03-2010</td>\n",
       "      <td>Brasília</td>\n",
       "      <td>236.41</td>\n",
       "    </tr>\n",
       "    <tr>\n",
       "      <th>3</th>\n",
       "      <td>01-04-2010</td>\n",
       "      <td>Brasília</td>\n",
       "      <td>237.76</td>\n",
       "    </tr>\n",
       "    <tr>\n",
       "      <th>4</th>\n",
       "      <td>01-05-2010</td>\n",
       "      <td>Brasília</td>\n",
       "      <td>233.25</td>\n",
       "    </tr>\n",
       "  </tbody>\n",
       "</table>\n",
       "</div>"
      ],
      "text/plain": [
       "         data municipio  vlr_cesta_basica\n",
       "0  01-01-2010  Brasília            214.47\n",
       "1  01-02-2010  Brasília            216.89\n",
       "2  01-03-2010  Brasília            236.41\n",
       "3  01-04-2010  Brasília            237.76\n",
       "4  01-05-2010  Brasília            233.25"
      ]
     },
     "execution_count": 23,
     "metadata": {},
     "output_type": "execute_result"
    }
   ],
   "source": [
    "df_bronze = pd.read_csv(output_path)\n",
    "df_bronze.head()"
   ]
  },
  {
   "cell_type": "code",
   "execution_count": 24,
   "id": "45a610e2",
   "metadata": {},
   "outputs": [
    {
     "data": {
      "text/plain": [
       "array(['Brasília', 'Campo Grande', 'Cuiabá', 'Goiânia', 'Belo Horizonte',\n",
       "       'Rio de Janeiro', 'São Paulo', 'Vitória', 'Curitiba',\n",
       "       'Florianópolis', 'Porto Alegre', 'Belém', 'Boa Vista', 'Macapá',\n",
       "       'Manaus', 'Palmas', 'Porto Velho', 'Rio Branco', 'Aracaju',\n",
       "       'Fortaleza', 'João Pessoa', 'Maceió', 'Natal', 'Recife',\n",
       "       'Salvador', 'São Luís', 'Teresina', 'Macaé'], dtype=object)"
      ]
     },
     "execution_count": 24,
     "metadata": {},
     "output_type": "execute_result"
    }
   ],
   "source": [
    "df_bronze.municipio.unique()"
   ]
  },
  {
   "cell_type": "code",
   "execution_count": 25,
   "id": "93be5777",
   "metadata": {},
   "outputs": [],
   "source": [
    "\n",
    "city_to_ibge = {\n",
    "    \"Brasília\":      5300108,\n",
    "    \"Campo Grande\":  5002704,\n",
    "    \"Cuiabá\":        5103403,\n",
    "    \"Goiânia\":       5208707,\n",
    "    \"Belo Horizonte\":3106200,\n",
    "    \"Rio de Janeiro\":3304557,\n",
    "    \"São Paulo\":     3550308,\n",
    "    \"Vitória\":       3205309,\n",
    "    \"Curitiba\":      4106902,\n",
    "    \"Florianópolis\": 4205407,\n",
    "    \"Porto Alegre\":  4314902,\n",
    "    \"Belém\":         1501402,\n",
    "    \"Boa Vista\":     1400100,\n",
    "    \"Macapá\":        1600303,\n",
    "    \"Manaus\":        1302603,\n",
    "    \"Palmas\":        1721000,\n",
    "    \"Porto Velho\":   1100205,\n",
    "    \"Rio Branco\":    1200401,\n",
    "    \"Aracaju\":       2800308,\n",
    "    \"Fortaleza\":     2304400,\n",
    "    \"João Pessoa\":   2507507,\n",
    "    \"Maceió\":        2704302,\n",
    "    \"Natal\":         2408102,\n",
    "    \"Recife\":        2611606,\n",
    "    \"Salvador\":      2927408,\n",
    "    \"São Luís\":      2111300,\n",
    "    \"Teresina\":      2211001,\n",
    "    \"Macaé\":         3302403\n",
    "}"
   ]
  },
  {
   "cell_type": "code",
   "execution_count": 26,
   "id": "880fb815",
   "metadata": {},
   "outputs": [
    {
     "data": {
      "text/html": [
       "<div>\n",
       "<style scoped>\n",
       "    .dataframe tbody tr th:only-of-type {\n",
       "        vertical-align: middle;\n",
       "    }\n",
       "\n",
       "    .dataframe tbody tr th {\n",
       "        vertical-align: top;\n",
       "    }\n",
       "\n",
       "    .dataframe thead th {\n",
       "        text-align: right;\n",
       "    }\n",
       "</style>\n",
       "<table border=\"1\" class=\"dataframe\">\n",
       "  <thead>\n",
       "    <tr style=\"text-align: right;\">\n",
       "      <th></th>\n",
       "      <th>data</th>\n",
       "      <th>municipio</th>\n",
       "      <th>id_municipio</th>\n",
       "      <th>vlr_cesta_basica</th>\n",
       "    </tr>\n",
       "  </thead>\n",
       "  <tbody>\n",
       "    <tr>\n",
       "      <th>0</th>\n",
       "      <td>01-01-2010</td>\n",
       "      <td>Brasília</td>\n",
       "      <td>5300108</td>\n",
       "      <td>214.47</td>\n",
       "    </tr>\n",
       "    <tr>\n",
       "      <th>1</th>\n",
       "      <td>01-02-2010</td>\n",
       "      <td>Brasília</td>\n",
       "      <td>5300108</td>\n",
       "      <td>216.89</td>\n",
       "    </tr>\n",
       "    <tr>\n",
       "      <th>2</th>\n",
       "      <td>01-03-2010</td>\n",
       "      <td>Brasília</td>\n",
       "      <td>5300108</td>\n",
       "      <td>236.41</td>\n",
       "    </tr>\n",
       "    <tr>\n",
       "      <th>3</th>\n",
       "      <td>01-04-2010</td>\n",
       "      <td>Brasília</td>\n",
       "      <td>5300108</td>\n",
       "      <td>237.76</td>\n",
       "    </tr>\n",
       "    <tr>\n",
       "      <th>4</th>\n",
       "      <td>01-05-2010</td>\n",
       "      <td>Brasília</td>\n",
       "      <td>5300108</td>\n",
       "      <td>233.25</td>\n",
       "    </tr>\n",
       "  </tbody>\n",
       "</table>\n",
       "</div>"
      ],
      "text/plain": [
       "         data municipio  id_municipio  vlr_cesta_basica\n",
       "0  01-01-2010  Brasília       5300108            214.47\n",
       "1  01-02-2010  Brasília       5300108            216.89\n",
       "2  01-03-2010  Brasília       5300108            236.41\n",
       "3  01-04-2010  Brasília       5300108            237.76\n",
       "4  01-05-2010  Brasília       5300108            233.25"
      ]
     },
     "execution_count": 26,
     "metadata": {},
     "output_type": "execute_result"
    }
   ],
   "source": [
    "df_silver = df_bronze.copy()\n",
    "df_silver[\"id_municipio\"] = df_bronze[\"municipio\"].map(city_to_ibge)\n",
    "df_silver = df_silver[['data','municipio','id_municipio','vlr_cesta_basica']]\n",
    "df_silver.head()"
   ]
  },
  {
   "cell_type": "markdown",
   "id": "7dd30a2b",
   "metadata": {},
   "source": [
    "### Quality"
   ]
  },
  {
   "cell_type": "code",
   "execution_count": 27,
   "id": "469a95d2",
   "metadata": {},
   "outputs": [],
   "source": [
    "missing = df_silver.loc[df_silver[\"id_municipio\"].isna(), \"municipio\"].unique()\n",
    "if len(missing):\n",
    "    print(\"Cidades sem código encontrado:\", missing)\n"
   ]
  },
  {
   "cell_type": "markdown",
   "id": "975f8ba1",
   "metadata": {},
   "source": [
    "### hash"
   ]
  },
  {
   "cell_type": "code",
   "execution_count": 28,
   "id": "1075fffe",
   "metadata": {},
   "outputs": [
    {
     "data": {
      "text/plain": [
       "Index(['data', 'municipio', 'id_municipio', 'vlr_cesta_basica'], dtype='object')"
      ]
     },
     "execution_count": 28,
     "metadata": {},
     "output_type": "execute_result"
    }
   ],
   "source": [
    "df_silver.columns"
   ]
  },
  {
   "cell_type": "code",
   "execution_count": 29,
   "id": "6ea5594d",
   "metadata": {},
   "outputs": [],
   "source": [
    "cols_for_hash = ['data', 'municipio', 'id_municipio', 'vlr_cesta_basica']"
   ]
  },
  {
   "cell_type": "code",
   "execution_count": 30,
   "id": "41b10a58",
   "metadata": {},
   "outputs": [
    {
     "name": "stdout",
     "output_type": "stream",
     "text": [
      "<class 'pandas.core.frame.DataFrame'>\n",
      "RangeIndex: 3491 entries, 0 to 3490\n",
      "Data columns (total 5 columns):\n",
      " #   Column            Non-Null Count  Dtype  \n",
      "---  ------            --------------  -----  \n",
      " 0   data              3491 non-null   object \n",
      " 1   municipio         3491 non-null   object \n",
      " 2   id_municipio      3491 non-null   int64  \n",
      " 3   vlr_cesta_basica  3491 non-null   float64\n",
      " 4   hash              3491 non-null   object \n",
      "dtypes: float64(1), int64(1), object(3)\n",
      "memory usage: 136.5+ KB\n"
     ]
    }
   ],
   "source": [
    "df_silver[\"hash\"] = build_row_hash(df_silver, cols_for_hash, algo=\"sha256\")\n",
    "df_silver.info()"
   ]
  },
  {
   "cell_type": "code",
   "execution_count": 31,
   "id": "496b39be",
   "metadata": {},
   "outputs": [
    {
     "data": {
      "text/plain": [
       "3491"
      ]
     },
     "execution_count": 31,
     "metadata": {},
     "output_type": "execute_result"
    }
   ],
   "source": [
    "df_silver.hash.nunique()"
   ]
  },
  {
   "cell_type": "markdown",
   "id": "f747927b",
   "metadata": {},
   "source": [
    "### scd2"
   ]
  },
  {
   "cell_type": "code",
   "execution_count": 32,
   "id": "a8bcfac3",
   "metadata": {},
   "outputs": [
    {
     "data": {
      "text/html": [
       "<div>\n",
       "<style scoped>\n",
       "    .dataframe tbody tr th:only-of-type {\n",
       "        vertical-align: middle;\n",
       "    }\n",
       "\n",
       "    .dataframe tbody tr th {\n",
       "        vertical-align: top;\n",
       "    }\n",
       "\n",
       "    .dataframe thead th {\n",
       "        text-align: right;\n",
       "    }\n",
       "</style>\n",
       "<table border=\"1\" class=\"dataframe\">\n",
       "  <thead>\n",
       "    <tr style=\"text-align: right;\">\n",
       "      <th></th>\n",
       "      <th>data</th>\n",
       "      <th>municipio</th>\n",
       "      <th>id_municipio</th>\n",
       "      <th>vlr_cesta_basica</th>\n",
       "      <th>hash</th>\n",
       "      <th>start_date</th>\n",
       "      <th>end_date</th>\n",
       "      <th>is_current</th>\n",
       "    </tr>\n",
       "  </thead>\n",
       "  <tbody>\n",
       "    <tr>\n",
       "      <th>0</th>\n",
       "      <td>01-01-2010</td>\n",
       "      <td>Brasília</td>\n",
       "      <td>5300108</td>\n",
       "      <td>214.47</td>\n",
       "      <td>a97e54b050d2c821cd9b71998e7ca9a826b1c0f5f42c13d6bb76b9c3884fd17b</td>\n",
       "      <td>2025-05-03</td>\n",
       "      <td>None</td>\n",
       "      <td>True</td>\n",
       "    </tr>\n",
       "    <tr>\n",
       "      <th>1</th>\n",
       "      <td>01-02-2010</td>\n",
       "      <td>Brasília</td>\n",
       "      <td>5300108</td>\n",
       "      <td>216.89</td>\n",
       "      <td>47f62e0830a6ff778b3f692bd478f5dc06a555b845388c77f4c5a745d82c984a</td>\n",
       "      <td>2025-05-03</td>\n",
       "      <td>None</td>\n",
       "      <td>True</td>\n",
       "    </tr>\n",
       "    <tr>\n",
       "      <th>2</th>\n",
       "      <td>01-03-2010</td>\n",
       "      <td>Brasília</td>\n",
       "      <td>5300108</td>\n",
       "      <td>236.41</td>\n",
       "      <td>274088489c0d8a40792dde8f5b6868c1a8e74a7fc501556a6eebaea16a6820fb</td>\n",
       "      <td>2025-05-03</td>\n",
       "      <td>None</td>\n",
       "      <td>True</td>\n",
       "    </tr>\n",
       "    <tr>\n",
       "      <th>3</th>\n",
       "      <td>01-04-2010</td>\n",
       "      <td>Brasília</td>\n",
       "      <td>5300108</td>\n",
       "      <td>237.76</td>\n",
       "      <td>06a8ba8cf510665dc725de5ab84a312b880a67422140cc91a90990ce006afc91</td>\n",
       "      <td>2025-05-03</td>\n",
       "      <td>None</td>\n",
       "      <td>True</td>\n",
       "    </tr>\n",
       "    <tr>\n",
       "      <th>4</th>\n",
       "      <td>01-05-2010</td>\n",
       "      <td>Brasília</td>\n",
       "      <td>5300108</td>\n",
       "      <td>233.25</td>\n",
       "      <td>86acbad29b8c4315fee893cd99632f1d665575ada9a8ed52e36f114276fae494</td>\n",
       "      <td>2025-05-03</td>\n",
       "      <td>None</td>\n",
       "      <td>True</td>\n",
       "    </tr>\n",
       "  </tbody>\n",
       "</table>\n",
       "</div>"
      ],
      "text/plain": [
       "         data municipio  id_municipio  vlr_cesta_basica  \\\n",
       "0  01-01-2010  Brasília       5300108            214.47   \n",
       "1  01-02-2010  Brasília       5300108            216.89   \n",
       "2  01-03-2010  Brasília       5300108            236.41   \n",
       "3  01-04-2010  Brasília       5300108            237.76   \n",
       "4  01-05-2010  Brasília       5300108            233.25   \n",
       "\n",
       "                                                               hash  \\\n",
       "0  a97e54b050d2c821cd9b71998e7ca9a826b1c0f5f42c13d6bb76b9c3884fd17b   \n",
       "1  47f62e0830a6ff778b3f692bd478f5dc06a555b845388c77f4c5a745d82c984a   \n",
       "2  274088489c0d8a40792dde8f5b6868c1a8e74a7fc501556a6eebaea16a6820fb   \n",
       "3  06a8ba8cf510665dc725de5ab84a312b880a67422140cc91a90990ce006afc91   \n",
       "4  86acbad29b8c4315fee893cd99632f1d665575ada9a8ed52e36f114276fae494   \n",
       "\n",
       "  start_date end_date  is_current  \n",
       "0 2025-05-03     None        True  \n",
       "1 2025-05-03     None        True  \n",
       "2 2025-05-03     None        True  \n",
       "3 2025-05-03     None        True  \n",
       "4 2025-05-03     None        True  "
      ]
     },
     "execution_count": 32,
     "metadata": {},
     "output_type": "execute_result"
    }
   ],
   "source": [
    "df_silver['start_date'] = datetime(2025, 5, 3)\n",
    "df_silver['end_date'] =  None\n",
    "df_silver['is_current'] =  True\n",
    "df_silver.head()"
   ]
  },
  {
   "cell_type": "markdown",
   "id": "a0797c65",
   "metadata": {},
   "source": [
    "### save"
   ]
  },
  {
   "cell_type": "code",
   "execution_count": 34,
   "id": "d76dea95",
   "metadata": {},
   "outputs": [],
   "source": [
    "output_path = project_root / \"data\" / \"silver\" / \"dieese\" / \"dieese.csv\"\n",
    "output_path.parent.mkdir(parents=True, exist_ok=True)\n",
    "df_silver.to_csv(output_path, index=False)\n"
   ]
  },
  {
   "cell_type": "code",
   "execution_count": null,
   "metadata": {},
   "outputs": [],
   "source": []
  },
  {
   "cell_type": "markdown",
   "id": "02bc0b1e",
   "metadata": {},
   "source": [
    "## 🥇 Gold"
   ]
  },
  {
   "cell_type": "code",
   "execution_count": 35,
   "id": "e197e99d",
   "metadata": {},
   "outputs": [
    {
     "name": "stdout",
     "output_type": "stream",
     "text": [
      "Salvo 3,491 registros atuais em /Users/silmara.barnabe/Desktop/dengue/data/gold/dieese/dieese.csv\n"
     ]
    }
   ],
   "source": [
    "silver_path = project_root / \"data\" / \"silver\" / \"dieese\" / \"dieese.csv\"\n",
    "gold_path   = project_root / \"data\" / \"gold\"  / \"dieese\" / \"dieese.csv\"\n",
    "\n",
    "\n",
    "gold_path.parent.mkdir(parents=True, exist_ok=True)\n",
    "\n",
    "# df_silver = pd.read_csv(silver_path, parse_dates=[\"start_date\", \"end_date\"])\n",
    "\n",
    "# --- filtra registros vigentes ---\n",
    "df_gold = df_silver.loc[df_silver[\"is_current\"] == 1].copy()\n",
    "\n",
    "# --- grava a gold ---\n",
    "df_gold.to_csv(gold_path, index=False)\n",
    "\n",
    "print(f\"Salvo {len(df_gold):,} registros atuais em {gold_path}\")\n"
   ]
  }
 ],
 "metadata": {
  "kernelspec": {
   "display_name": "Python 3",
   "language": "python",
   "name": "python3"
  },
  "language_info": {
   "codemirror_mode": {
    "name": "ipython",
    "version": 3
   },
   "file_extension": ".py",
   "mimetype": "text/x-python",
   "name": "python",
   "nbconvert_exporter": "python",
   "pygments_lexer": "ipython3",
   "version": "3.9.21"
  }
 },
 "nbformat": 4,
 "nbformat_minor": 5
}
