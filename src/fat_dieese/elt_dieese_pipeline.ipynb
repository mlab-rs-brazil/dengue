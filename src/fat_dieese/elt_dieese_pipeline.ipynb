{
 "cells": [
  {
   "cell_type": "markdown",
   "id": "5599939c",
   "metadata": {},
   "source": [
    "# ELT Dieese"
   ]
  },
  {
   "cell_type": "code",
   "execution_count": null,
   "id": "10b9e195",
   "metadata": {},
   "outputs": [],
   "source": [
    "%run ../../config/bootstrap.py\n",
    "from utils import get_project_root,build_row_hash\n",
    "from pathlib import Path \n",
    "#from pandas_scd import scd2\n",
    "import pandas as pd\n",
    "from datetime import datetime"
   ]
  },
  {
   "cell_type": "code",
   "execution_count": null,
   "id": "252a5d87",
   "metadata": {},
   "outputs": [],
   "source": [
    "\n",
    "project_root = get_project_root() \n",
    "project_root"
   ]
  },
  {
   "cell_type": "markdown",
   "id": "7452d5a5",
   "metadata": {},
   "source": [
    "## ⌛ Staging\n"
   ]
  },
  {
   "cell_type": "code",
   "execution_count": null,
   "id": "8c433893",
   "metadata": {},
   "outputs": [],
   "source": [
    "df_stg = pd.read_excel(\n",
    "    project_root / \"data/staging/dieese/dieese_dataset_201001_202504.xls\",\n",
    "    engine=\"xlrd\",\n",
    "    header=1\n",
    ")"
   ]
  },
  {
   "cell_type": "code",
   "execution_count": null,
   "id": "9f10b6a8",
   "metadata": {},
   "outputs": [],
   "source": [
    "df_stg.head()"
   ]
  },
  {
   "cell_type": "markdown",
   "id": "30be651c",
   "metadata": {},
   "source": [
    "## 🥉 Bronze"
   ]
  },
  {
   "cell_type": "code",
   "execution_count": null,
   "id": "910fe154",
   "metadata": {},
   "outputs": [],
   "source": [
    "\n",
    "df_stg = df_stg.rename(columns={df_stg.columns[0]: \"data\"})  \n",
    "df_bronze = (\n",
    "    df_stg\n",
    "      .melt(id_vars=\"data\",          # mantém a coluna data\n",
    "            var_name=\"municipio\",    # novos rótulos das colunas “largas”\n",
    "            value_name=\"vlr_cesta_basica\")  # valores das antigas colunas\n",
    "      .dropna(subset=[\"vlr_cesta_basica\"])  # remove linhas sem valor\n",
    "      .reset_index(drop=True)        # limpa o índice\n",
    ")\n",
    "\n",
    "# opcional: converte a coluna data para datetime se quiser filtrar por datas depois\n",
    "df_bronze[\"data\"] = \"01-\"+df_bronze[\"data\"]\n",
    "\n",
    "df_bronze.head()"
   ]
  },
  {
   "cell_type": "code",
   "execution_count": null,
   "id": "f1aab931",
   "metadata": {},
   "outputs": [],
   "source": [
    "output_path = project_root / \"data\" / \"bronze\" / \"dieese\" / \"dieese.csv\"\n",
    "output_path.parent.mkdir(parents=True, exist_ok=True)\n",
    "df_bronze.to_csv(output_path, index=False)\n"
   ]
  },
  {
   "cell_type": "code",
   "execution_count": null,
   "id": "0e04c5b4",
   "metadata": {},
   "outputs": [],
   "source": [
    "output_path"
   ]
  },
  {
   "cell_type": "markdown",
   "id": "45b3cbc1",
   "metadata": {},
   "source": [
    "## 🥈 Silver"
   ]
  },
  {
   "cell_type": "code",
   "execution_count": null,
   "id": "c726a7c5",
   "metadata": {},
   "outputs": [],
   "source": [
    "output_path = project_root / \"data\" / \"bronze\" / \"dieese\" / \"dieese.csv\""
   ]
  },
  {
   "cell_type": "code",
   "execution_count": null,
   "id": "88359288",
   "metadata": {},
   "outputs": [],
   "source": [
    "df_bronze = pd.read_csv(output_path)\n",
    "df_bronze.head()"
   ]
  },
  {
   "cell_type": "code",
   "execution_count": null,
   "id": "45a610e2",
   "metadata": {},
   "outputs": [],
   "source": [
    "df_bronze.municipio.unique()"
   ]
  },
  {
   "cell_type": "code",
   "execution_count": null,
   "id": "93be5777",
   "metadata": {},
   "outputs": [],
   "source": [
    "\n",
    "city_to_ibge = {\n",
    "    \"Brasília\":      5300108,\n",
    "    \"Campo Grande\":  5002704,\n",
    "    \"Cuiabá\":        5103403,\n",
    "    \"Goiânia\":       5208707,\n",
    "    \"Belo Horizonte\":3106200,\n",
    "    \"Rio de Janeiro\":3304557,\n",
    "    \"São Paulo\":     3550308,\n",
    "    \"Vitória\":       3205309,\n",
    "    \"Curitiba\":      4106902,\n",
    "    \"Florianópolis\": 4205407,\n",
    "    \"Porto Alegre\":  4314902,\n",
    "    \"Belém\":         1501402,\n",
    "    \"Boa Vista\":     1400100,\n",
    "    \"Macapá\":        1600303,\n",
    "    \"Manaus\":        1302603,\n",
    "    \"Palmas\":        1721000,\n",
    "    \"Porto Velho\":   1100205,\n",
    "    \"Rio Branco\":    1200401,\n",
    "    \"Aracaju\":       2800308,\n",
    "    \"Fortaleza\":     2304400,\n",
    "    \"João Pessoa\":   2507507,\n",
    "    \"Maceió\":        2704302,\n",
    "    \"Natal\":         2408102,\n",
    "    \"Recife\":        2611606,\n",
    "    \"Salvador\":      2927408,\n",
    "    \"São Luís\":      2111300,\n",
    "    \"Teresina\":      2211001,\n",
    "    \"Macaé\":         3302403\n",
    "}"
   ]
  },
  {
   "cell_type": "code",
   "execution_count": null,
   "id": "880fb815",
   "metadata": {},
   "outputs": [],
   "source": [
    "df_silver = df_bronze.copy()\n",
    "df_silver[\"id_municipio\"] = df_bronze[\"municipio\"].map(city_to_ibge)\n",
    "df_silver = df_silver[['data','municipio','id_municipio','vlr_cesta_basica']]\n",
    "df_silver.head()"
   ]
  },
  {
   "cell_type": "markdown",
   "id": "7dd30a2b",
   "metadata": {},
   "source": [
    "### Quality"
   ]
  },
  {
   "cell_type": "code",
   "execution_count": null,
   "id": "469a95d2",
   "metadata": {},
   "outputs": [],
   "source": [
    "missing = df_silver.loc[df_silver[\"id_municipio\"].isna(), \"municipio\"].unique()\n",
    "if len(missing):\n",
    "    print(\"Cidades sem código encontrado:\", missing)\n"
   ]
  },
  {
   "cell_type": "markdown",
   "id": "975f8ba1",
   "metadata": {},
   "source": [
    "### hash"
   ]
  },
  {
   "cell_type": "code",
   "execution_count": null,
   "id": "1075fffe",
   "metadata": {},
   "outputs": [],
   "source": [
    "df_silver.columns"
   ]
  },
  {
   "cell_type": "code",
   "execution_count": null,
   "id": "6ea5594d",
   "metadata": {},
   "outputs": [],
   "source": [
    "cols_for_hash = ['data', 'municipio', 'id_municipio', 'vlr_cesta_basica']"
   ]
  },
  {
   "cell_type": "code",
   "execution_count": null,
   "id": "41b10a58",
   "metadata": {},
   "outputs": [],
   "source": [
    "df_silver[\"hash\"] = build_row_hash(df_silver, cols_for_hash, algo=\"sha256\")\n",
    "df_silver.info()"
   ]
  },
  {
   "cell_type": "code",
   "execution_count": null,
   "id": "496b39be",
   "metadata": {},
   "outputs": [],
   "source": [
    "df_silver.hash.nunique()"
   ]
  },
  {
   "cell_type": "markdown",
   "id": "f747927b",
   "metadata": {},
   "source": [
    "### scd2"
   ]
  },
  {
   "cell_type": "code",
   "execution_count": null,
   "id": "cc999fc6",
   "metadata": {},
   "outputs": [],
   "source": [
    "\n",
    "\n",
    "# tgt = dimensão existente (pode estar vazia)\n",
    "tgt = pd.DataFrame({\n",
    "    \"municipio\": [4314902],\n",
    "    \"populacao\": [1488252],\n",
    "    \"start_\": [datetime(2024, 1, 1)],\n",
    "    \"end_\": [None],\n",
    "    \"is_active\": [True]\n",
    "})\n",
    "\n",
    "# src = carga nova\n",
    "src = pd.DataFrame({\n",
    "    \"municipio\": [4314902],\n",
    "    \"populacao\": [1491000]   # mudou!\n",
    "})\n",
    "\n",
    "final_dim = scd2(src, tgt, cols_to_track=[\"populacao\"])\n"
   ]
  },
  {
   "cell_type": "markdown",
   "id": "a0797c65",
   "metadata": {},
   "source": [
    "### save"
   ]
  },
  {
   "cell_type": "code",
   "execution_count": null,
   "id": "d76dea95",
   "metadata": {},
   "outputs": [],
   "source": [
    "output_path = project_root / \"data\" / \"silver\" / \"dieese\" / \"dieese.csv\"\n",
    "output_path.parent.mkdir(parents=True, exist_ok=True)\n",
    "df_silver.to_csv(output_path, index=False)\n"
   ]
  },
  {
   "cell_type": "code",
   "execution_count": null,
   "metadata": {},
   "outputs": [],
   "source": []
  },
  {
   "cell_type": "markdown",
   "id": "02bc0b1e",
   "metadata": {},
   "source": [
    "## 🥇 Gold"
   ]
  },
  {
   "cell_type": "code",
   "execution_count": null,
   "id": "e197e99d",
   "metadata": {},
   "outputs": [],
   "source": [
    "silver_path = project_root / \"data\" / \"silver\" / \"dieese\" / \"dieese.csv\"\n",
    "gold_path   = project_root / \"data\" / \"gold\"  / \"dieese\" / \"dieese.csv\"\n",
    "\n",
    "\n",
    "gold_path.parent.mkdir(parents=True, exist_ok=True)\n",
    "\n",
    "# df_silver = pd.read_csv(silver_path, parse_dates=[\"start_date\", \"end_date\"])\n",
    "\n",
    "# --- filtra registros vigentes ---\n",
    "df_gold = df_silver.loc[df_silver[\"is_current\"] == 1].copy()\n",
    "\n",
    "# --- grava a gold ---\n",
    "df_gold.to_csv(gold_path, index=False)\n",
    "\n",
    "print(f\"Salvo {len(df_gold):,} registros atuais em {gold_path}\")\n"
   ]
  }
 ],
 "metadata": {
  "kernelspec": {
   "display_name": "Python 3",
   "language": "python",
   "name": "python3"
  },
  "language_info": {
   "codemirror_mode": {
    "name": "ipython",
    "version": 3
   },
   "file_extension": ".py",
   "mimetype": "text/x-python",
   "name": "python",
   "nbconvert_exporter": "python",
   "pygments_lexer": "ipython3",
   "version": "3.9.21"
  }
 },
 "nbformat": 4,
 "nbformat_minor": 5
}
