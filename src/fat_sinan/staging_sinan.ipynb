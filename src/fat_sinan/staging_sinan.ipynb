{
 "cells": [
  {
   "cell_type": "markdown",
   "id": "284ab064",
   "metadata": {},
   "source": [
    "# Sistema de Informação de Agravos de Notificação (SINAN)\n",
    "\n",
    "Esse notebook tem como objetivo realizar o ELT dos dados provenientes do SINAN que serão utilizados no projeto Dengue."
   ]
  },
  {
   "cell_type": "markdown",
   "id": "39b22b76",
   "metadata": {},
   "source": [
    "### Libs"
   ]
  },
  {
   "cell_type": "code",
   "execution_count": 1,
   "id": "451da28a",
   "metadata": {},
   "outputs": [],
   "source": [
    "%run ../config/bootstrap.py"
   ]
  },
  {
   "cell_type": "code",
   "execution_count": 2,
   "id": "675feea7",
   "metadata": {},
   "outputs": [
    {
     "name": "stderr",
     "output_type": "stream",
     "text": [
      "/Users/silmara.barnabe/dev/nu/momo/.venv/lib/python3.9/site-packages/tqdm/auto.py:21: TqdmWarning: IProgress not found. Please update jupyter and ipywidgets. See https://ipywidgets.readthedocs.io/en/stable/user_install.html\n",
      "  from .autonotebook import tqdm as notebook_tqdm\n"
     ]
    }
   ],
   "source": [
    "import pandas as pd\n",
    "from utils import get_project_root, save_parquet_in_chunks , load_partitioned_parquet\n",
    "import basedosdados as bd"
   ]
  },
  {
   "cell_type": "code",
   "execution_count": 3,
   "id": "a4a04d70",
   "metadata": {},
   "outputs": [],
   "source": [
    "project_root = get_project_root() \n",
    "billing_id = 'barnabe-bq'"
   ]
  },
  {
   "cell_type": "code",
   "execution_count": 4,
   "id": "8310ad74",
   "metadata": {},
   "outputs": [
    {
     "data": {
      "text/html": [
       "<span style=\"None\">Connecting to &quot;bigquery://&#x27;barnabe-bq&#x27;&quot;</span>"
      ],
      "text/plain": [
       "Connecting to \"bigquery://'barnabe-bq'\""
      ]
     },
     "metadata": {},
     "output_type": "display_data"
    }
   ],
   "source": [
    "#%load_ext sql\n",
    "%reload_ext sql\n",
    "%config SqlMagic.autopandas = True\n",
    "%config SqlMagic.displaylimit = 100\n",
    "%sql bigquery://'barnabe-bq'\n",
    "#%%sql bigquery://'barnabe-bq'\n",
    "#%sql bigquery://barnabe-bq\n",
    "#%sql duckdb:///:memory:"
   ]
  },
  {
   "cell_type": "markdown",
   "id": "6089df56",
   "metadata": {},
   "source": [
    "# dicionario\n",
    " "
   ]
  },
  {
   "cell_type": "code",
   "execution_count": 5,
   "id": "0e3fea9a",
   "metadata": {},
   "outputs": [
    {
     "data": {
      "text/html": [
       "<span style=\"None\">Connecting and switching to connection &#x27;bigquery://barnabe-bq&#x27;</span>"
      ],
      "text/plain": [
       "Connecting and switching to connection 'bigquery://barnabe-bq'"
      ]
     },
     "metadata": {},
     "output_type": "display_data"
    },
    {
     "data": {
      "text/html": [
       "<span style=\"color: green\">10 rows affected.</span>"
      ],
      "text/plain": [
       "10 rows affected."
      ]
     },
     "metadata": {},
     "output_type": "display_data"
    },
    {
     "data": {
      "text/html": [
       "<div>\n",
       "<style scoped>\n",
       "    .dataframe tbody tr th:only-of-type {\n",
       "        vertical-align: middle;\n",
       "    }\n",
       "\n",
       "    .dataframe tbody tr th {\n",
       "        vertical-align: top;\n",
       "    }\n",
       "\n",
       "    .dataframe thead th {\n",
       "        text-align: right;\n",
       "    }\n",
       "</style>\n",
       "<table border=\"1\" class=\"dataframe\">\n",
       "  <thead>\n",
       "    <tr style=\"text-align: right;\">\n",
       "      <th></th>\n",
       "      <th>id_tabela</th>\n",
       "      <th>nome_coluna</th>\n",
       "      <th>chave</th>\n",
       "      <th>cobertura_temporal</th>\n",
       "      <th>valor</th>\n",
       "    </tr>\n",
       "  </thead>\n",
       "  <tbody>\n",
       "    <tr>\n",
       "      <th>0</th>\n",
       "      <td>microdados_dengue</td>\n",
       "      <td>escolaridade_paciente</td>\n",
       "      <td>1</td>\n",
       "      <td>(1)</td>\n",
       "      <td>1ª a 4ª série incompleta do EF</td>\n",
       "    </tr>\n",
       "    <tr>\n",
       "      <th>1</th>\n",
       "      <td>microdados_dengue</td>\n",
       "      <td>escolaridade_paciente</td>\n",
       "      <td>2</td>\n",
       "      <td>(1)</td>\n",
       "      <td>4ª série completa do EF ( antigo 1° grau)</td>\n",
       "    </tr>\n",
       "    <tr>\n",
       "      <th>2</th>\n",
       "      <td>microdados_dengue</td>\n",
       "      <td>escolaridade_paciente</td>\n",
       "      <td>3</td>\n",
       "      <td>(1)</td>\n",
       "      <td>5ª à 8ª série incompleta do EF (antigo ginásio ou 1° grau)</td>\n",
       "    </tr>\n",
       "    <tr>\n",
       "      <th>3</th>\n",
       "      <td>microdados_dengue</td>\n",
       "      <td>raca_cor_paciente</td>\n",
       "      <td>3</td>\n",
       "      <td>(1)</td>\n",
       "      <td>Amarela</td>\n",
       "    </tr>\n",
       "    <tr>\n",
       "      <th>4</th>\n",
       "      <td>microdados_dengue</td>\n",
       "      <td>idade_paciente</td>\n",
       "      <td>4</td>\n",
       "      <td>(1)</td>\n",
       "      <td>Ano</td>\n",
       "    </tr>\n",
       "    <tr>\n",
       "      <th>5</th>\n",
       "      <td>microdados_dengue</td>\n",
       "      <td>raca_cor_paciente</td>\n",
       "      <td>1</td>\n",
       "      <td>(1)</td>\n",
       "      <td>Branca</td>\n",
       "    </tr>\n",
       "    <tr>\n",
       "      <th>6</th>\n",
       "      <td>microdados_dengue</td>\n",
       "      <td>criterio_confirmacao</td>\n",
       "      <td>2</td>\n",
       "      <td>(1)</td>\n",
       "      <td>Clínico Epidemiológico</td>\n",
       "    </tr>\n",
       "    <tr>\n",
       "      <th>7</th>\n",
       "      <td>microdados_dengue</td>\n",
       "      <td>evolucao_caso</td>\n",
       "      <td>1</td>\n",
       "      <td>(1)</td>\n",
       "      <td>Cura</td>\n",
       "    </tr>\n",
       "    <tr>\n",
       "      <th>8</th>\n",
       "      <td>microdados_dengue</td>\n",
       "      <td>idade_paciente</td>\n",
       "      <td>2</td>\n",
       "      <td>(1)</td>\n",
       "      <td>Dia</td>\n",
       "    </tr>\n",
       "    <tr>\n",
       "      <th>9</th>\n",
       "      <td>microdados_dengue</td>\n",
       "      <td>escolaridade_paciente</td>\n",
       "      <td>8</td>\n",
       "      <td>(1)</td>\n",
       "      <td>Educação superior completa</td>\n",
       "    </tr>\n",
       "  </tbody>\n",
       "</table>\n",
       "</div>"
      ],
      "text/plain": [
       "           id_tabela            nome_coluna chave cobertura_temporal  \\\n",
       "0  microdados_dengue  escolaridade_paciente     1                (1)   \n",
       "1  microdados_dengue  escolaridade_paciente     2                (1)   \n",
       "2  microdados_dengue  escolaridade_paciente     3                (1)   \n",
       "3  microdados_dengue      raca_cor_paciente     3                (1)   \n",
       "4  microdados_dengue         idade_paciente     4                (1)   \n",
       "5  microdados_dengue      raca_cor_paciente     1                (1)   \n",
       "6  microdados_dengue   criterio_confirmacao     2                (1)   \n",
       "7  microdados_dengue          evolucao_caso     1                (1)   \n",
       "8  microdados_dengue         idade_paciente     2                (1)   \n",
       "9  microdados_dengue  escolaridade_paciente     8                (1)   \n",
       "\n",
       "                                                         valor  \n",
       "0                               1ª a 4ª série incompleta do EF  \n",
       "1                   4ª série completa do EF ( antigo 1° grau)   \n",
       "2  5ª à 8ª série incompleta do EF (antigo ginásio ou 1° grau)   \n",
       "3                                                      Amarela  \n",
       "4                                                          Ano  \n",
       "5                                                       Branca  \n",
       "6                                      Clínico Epidemiológico   \n",
       "7                                                         Cura  \n",
       "8                                                          Dia  \n",
       "9                                  Educação superior completa   "
      ]
     },
     "execution_count": 5,
     "metadata": {},
     "output_type": "execute_result"
    }
   ],
   "source": [
    "%%sql bigquery://barnabe-bq\n",
    "SELECT * FROM `basedosdados.br_ms_sinan.dicionario` limit 10"
   ]
  },
  {
   "cell_type": "code",
   "execution_count": 6,
   "id": "b23ddcb9",
   "metadata": {},
   "outputs": [
    {
     "data": {
      "text/html": [
       "<span style=\"None\">Running query in &#x27;bigquery://barnabe-bq&#x27;</span>"
      ],
      "text/plain": [
       "Running query in 'bigquery://barnabe-bq'"
      ]
     },
     "metadata": {},
     "output_type": "display_data"
    },
    {
     "data": {
      "text/html": [
       "<span style=\"color: green\">818 rows affected.</span>"
      ],
      "text/plain": [
       "818 rows affected."
      ]
     },
     "metadata": {},
     "output_type": "display_data"
    }
   ],
   "source": [
    "%%sql df_dic <<\n",
    "SELECT *\n",
    "FROM `basedosdados.br_ms_sinan.dicionario`\n"
   ]
  },
  {
   "cell_type": "code",
   "execution_count": 7,
   "id": "05cdc897",
   "metadata": {},
   "outputs": [
    {
     "name": "stdout",
     "output_type": "stream",
     "text": [
      "<class 'pandas.core.frame.DataFrame'>\n",
      "RangeIndex: 818 entries, 0 to 817\n",
      "Data columns (total 5 columns):\n",
      " #   Column              Non-Null Count  Dtype \n",
      "---  ------              --------------  ----- \n",
      " 0   id_tabela           818 non-null    object\n",
      " 1   nome_coluna         818 non-null    object\n",
      " 2   chave               818 non-null    object\n",
      " 3   cobertura_temporal  818 non-null    object\n",
      " 4   valor               793 non-null    object\n",
      "dtypes: object(5)\n",
      "memory usage: 32.1+ KB\n"
     ]
    }
   ],
   "source": [
    "df_dic.info()"
   ]
  },
  {
   "cell_type": "markdown",
   "id": "60318c3a",
   "metadata": {},
   "source": [
    "# notifications"
   ]
  },
  {
   "cell_type": "code",
   "execution_count": 8,
   "id": "a56ca992",
   "metadata": {},
   "outputs": [
    {
     "data": {
      "text/html": [
       "<span style=\"None\">Running query in &#x27;bigquery://barnabe-bq&#x27;</span>"
      ],
      "text/plain": [
       "Running query in 'bigquery://barnabe-bq'"
      ]
     },
     "metadata": {},
     "output_type": "display_data"
    },
    {
     "data": {
      "text/html": [
       "<span style=\"color: green\">26 rows affected.</span>"
      ],
      "text/plain": [
       "26 rows affected."
      ]
     },
     "metadata": {},
     "output_type": "display_data"
    }
   ],
   "source": [
    "%%sql df_notificacoes <<\n",
    "SELECT ano, count(*) as qt FROM `basedosdados.br_ms_sinan.microdados_dengue` group by 1 order by 1 desc"
   ]
  },
  {
   "cell_type": "code",
   "execution_count": 10,
   "id": "7c8df506",
   "metadata": {},
   "outputs": [
    {
     "data": {
      "text/html": [
       "<div>\n",
       "<style scoped>\n",
       "    .dataframe tbody tr th:only-of-type {\n",
       "        vertical-align: middle;\n",
       "    }\n",
       "\n",
       "    .dataframe tbody tr th {\n",
       "        vertical-align: top;\n",
       "    }\n",
       "\n",
       "    .dataframe thead th {\n",
       "        text-align: right;\n",
       "    }\n",
       "</style>\n",
       "<table border=\"1\" class=\"dataframe\">\n",
       "  <thead>\n",
       "    <tr style=\"text-align: right;\">\n",
       "      <th></th>\n",
       "      <th>ano</th>\n",
       "      <th>qt</th>\n",
       "    </tr>\n",
       "  </thead>\n",
       "  <tbody>\n",
       "    <tr>\n",
       "      <th>0</th>\n",
       "      <td>2025</td>\n",
       "      <td>1105897</td>\n",
       "    </tr>\n",
       "    <tr>\n",
       "      <th>1</th>\n",
       "      <td>2024</td>\n",
       "      <td>6442122</td>\n",
       "    </tr>\n",
       "    <tr>\n",
       "      <th>2</th>\n",
       "      <td>2023</td>\n",
       "      <td>1508653</td>\n",
       "    </tr>\n",
       "    <tr>\n",
       "      <th>3</th>\n",
       "      <td>2022</td>\n",
       "      <td>1393877</td>\n",
       "    </tr>\n",
       "    <tr>\n",
       "      <th>4</th>\n",
       "      <td>2021</td>\n",
       "      <td>1010359</td>\n",
       "    </tr>\n",
       "    <tr>\n",
       "      <th>5</th>\n",
       "      <td>2020</td>\n",
       "      <td>1495117</td>\n",
       "    </tr>\n",
       "    <tr>\n",
       "      <th>6</th>\n",
       "      <td>2019</td>\n",
       "      <td>2261956</td>\n",
       "    </tr>\n",
       "    <tr>\n",
       "      <th>7</th>\n",
       "      <td>2018</td>\n",
       "      <td>478880</td>\n",
       "    </tr>\n",
       "    <tr>\n",
       "      <th>8</th>\n",
       "      <td>2017</td>\n",
       "      <td>518483</td>\n",
       "    </tr>\n",
       "    <tr>\n",
       "      <th>9</th>\n",
       "      <td>2016</td>\n",
       "      <td>2298020</td>\n",
       "    </tr>\n",
       "    <tr>\n",
       "      <th>10</th>\n",
       "      <td>2015</td>\n",
       "      <td>2398060</td>\n",
       "    </tr>\n",
       "    <tr>\n",
       "      <th>11</th>\n",
       "      <td>2014</td>\n",
       "      <td>966619</td>\n",
       "    </tr>\n",
       "    <tr>\n",
       "      <th>12</th>\n",
       "      <td>2013</td>\n",
       "      <td>2035119</td>\n",
       "    </tr>\n",
       "    <tr>\n",
       "      <th>13</th>\n",
       "      <td>2012</td>\n",
       "      <td>950180</td>\n",
       "    </tr>\n",
       "    <tr>\n",
       "      <th>14</th>\n",
       "      <td>2011</td>\n",
       "      <td>1150011</td>\n",
       "    </tr>\n",
       "    <tr>\n",
       "      <th>15</th>\n",
       "      <td>2010</td>\n",
       "      <td>1381254</td>\n",
       "    </tr>\n",
       "    <tr>\n",
       "      <th>16</th>\n",
       "      <td>2009</td>\n",
       "      <td>600658</td>\n",
       "    </tr>\n",
       "    <tr>\n",
       "      <th>17</th>\n",
       "      <td>2008</td>\n",
       "      <td>919324</td>\n",
       "    </tr>\n",
       "    <tr>\n",
       "      <th>18</th>\n",
       "      <td>2007</td>\n",
       "      <td>717097</td>\n",
       "    </tr>\n",
       "    <tr>\n",
       "      <th>19</th>\n",
       "      <td>2006</td>\n",
       "      <td>411022</td>\n",
       "    </tr>\n",
       "    <tr>\n",
       "      <th>20</th>\n",
       "      <td>2005</td>\n",
       "      <td>261501</td>\n",
       "    </tr>\n",
       "    <tr>\n",
       "      <th>21</th>\n",
       "      <td>2004</td>\n",
       "      <td>136867</td>\n",
       "    </tr>\n",
       "    <tr>\n",
       "      <th>22</th>\n",
       "      <td>2003</td>\n",
       "      <td>416609</td>\n",
       "    </tr>\n",
       "    <tr>\n",
       "      <th>23</th>\n",
       "      <td>2002</td>\n",
       "      <td>897093</td>\n",
       "    </tr>\n",
       "    <tr>\n",
       "      <th>24</th>\n",
       "      <td>2001</td>\n",
       "      <td>488590</td>\n",
       "    </tr>\n",
       "    <tr>\n",
       "      <th>25</th>\n",
       "      <td>2000</td>\n",
       "      <td>172855</td>\n",
       "    </tr>\n",
       "  </tbody>\n",
       "</table>\n",
       "</div>"
      ],
      "text/plain": [
       "     ano       qt\n",
       "0   2025  1105897\n",
       "1   2024  6442122\n",
       "2   2023  1508653\n",
       "3   2022  1393877\n",
       "4   2021  1010359\n",
       "5   2020  1495117\n",
       "6   2019  2261956\n",
       "7   2018   478880\n",
       "8   2017   518483\n",
       "9   2016  2298020\n",
       "10  2015  2398060\n",
       "11  2014   966619\n",
       "12  2013  2035119\n",
       "13  2012   950180\n",
       "14  2011  1150011\n",
       "15  2010  1381254\n",
       "16  2009   600658\n",
       "17  2008   919324\n",
       "18  2007   717097\n",
       "19  2006   411022\n",
       "20  2005   261501\n",
       "21  2004   136867\n",
       "22  2003   416609\n",
       "23  2002   897093\n",
       "24  2001   488590\n",
       "25  2000   172855"
      ]
     },
     "execution_count": 10,
     "metadata": {},
     "output_type": "execute_result"
    }
   ],
   "source": [
    "df_notificacoes"
   ]
  },
  {
   "cell_type": "code",
   "execution_count": 11,
   "id": "a73909c4",
   "metadata": {},
   "outputs": [
    {
     "name": "stdout",
     "output_type": "stream",
     "text": [
      "Downloading: 100%|\u001b[32m██████████\u001b[0m|\n"
     ]
    },
    {
     "name": "stderr",
     "output_type": "stream",
     "text": [
      "Salvando arquivos Parquet: 100%|██████████| 1105897/1105897 [01:40<00:00, 10979.87linhas/s]"
     ]
    },
    {
     "name": "stdout",
     "output_type": "stream",
     "text": [
      "✔️ 2025_part_1.parquet salvo com 21.72 MB (1105897 linhas)\n",
      "✅ Todos os arquivos salvos com sucesso.\n"
     ]
    },
    {
     "name": "stderr",
     "output_type": "stream",
     "text": [
      "\n"
     ]
    },
    {
     "name": "stdout",
     "output_type": "stream",
     "text": [
      "Downloading: 100%|\u001b[32m██████████\u001b[0m|\n"
     ]
    },
    {
     "name": "stderr",
     "output_type": "stream",
     "text": [
      "Salvando arquivos Parquet:  77%|███████▋  | 4984858/6442122 [08:52<02:35, 9366.04linhas/s]"
     ]
    },
    {
     "name": "stdout",
     "output_type": "stream",
     "text": [
      "✔️ 2024_part_1.parquet salvo com 100.00 MB (4984858 linhas)\n"
     ]
    },
    {
     "name": "stderr",
     "output_type": "stream",
     "text": [
      "Salvando arquivos Parquet: 100%|██████████| 6442122/6442122 [11:09<00:00, 9624.35linhas/s]"
     ]
    },
    {
     "name": "stdout",
     "output_type": "stream",
     "text": [
      "✔️ 2024_part_2.parquet salvo com 29.60 MB (1457264 linhas)\n",
      "✅ Todos os arquivos salvos com sucesso.\n"
     ]
    },
    {
     "name": "stderr",
     "output_type": "stream",
     "text": [
      "\n"
     ]
    },
    {
     "name": "stdout",
     "output_type": "stream",
     "text": [
      "Downloading: 100%|\u001b[32m██████████\u001b[0m|\n"
     ]
    },
    {
     "name": "stderr",
     "output_type": "stream",
     "text": [
      "Salvando arquivos Parquet: 100%|██████████| 1508653/1508653 [02:06<00:00, 11950.09linhas/s]"
     ]
    },
    {
     "name": "stdout",
     "output_type": "stream",
     "text": [
      "✔️ 2023_part_1.parquet salvo com 23.62 MB (1508653 linhas)\n",
      "✅ Todos os arquivos salvos com sucesso.\n"
     ]
    },
    {
     "name": "stderr",
     "output_type": "stream",
     "text": [
      "\n"
     ]
    },
    {
     "name": "stdout",
     "output_type": "stream",
     "text": [
      "Downloading: 100%|\u001b[32m██████████\u001b[0m|\n"
     ]
    },
    {
     "name": "stderr",
     "output_type": "stream",
     "text": [
      "Salvando arquivos Parquet: 100%|██████████| 1393877/1393877 [01:59<00:00, 11664.83linhas/s]"
     ]
    },
    {
     "name": "stdout",
     "output_type": "stream",
     "text": [
      "✔️ 2022_part_1.parquet salvo com 24.65 MB (1393877 linhas)\n",
      "✅ Todos os arquivos salvos com sucesso.\n"
     ]
    },
    {
     "name": "stderr",
     "output_type": "stream",
     "text": [
      "\n"
     ]
    },
    {
     "name": "stdout",
     "output_type": "stream",
     "text": [
      "Downloading: 100%|\u001b[32m██████████\u001b[0m|\n"
     ]
    },
    {
     "name": "stderr",
     "output_type": "stream",
     "text": [
      "Salvando arquivos Parquet: 100%|██████████| 1010359/1010359 [01:18<00:00, 12888.02linhas/s]"
     ]
    },
    {
     "name": "stdout",
     "output_type": "stream",
     "text": [
      "✔️ 2021_part_1.parquet salvo com 17.29 MB (1010359 linhas)\n",
      "✅ Todos os arquivos salvos com sucesso.\n"
     ]
    },
    {
     "name": "stderr",
     "output_type": "stream",
     "text": [
      "\n"
     ]
    },
    {
     "name": "stdout",
     "output_type": "stream",
     "text": [
      "Downloading: 100%|\u001b[32m██████████\u001b[0m|\n"
     ]
    },
    {
     "name": "stderr",
     "output_type": "stream",
     "text": [
      "Salvando arquivos Parquet: 100%|██████████| 1495117/1495117 [02:04<00:00, 12024.29linhas/s]"
     ]
    },
    {
     "name": "stdout",
     "output_type": "stream",
     "text": [
      "✔️ 2020_part_1.parquet salvo com 22.86 MB (1495117 linhas)\n",
      "✅ Todos os arquivos salvos com sucesso.\n"
     ]
    },
    {
     "name": "stderr",
     "output_type": "stream",
     "text": [
      "\n"
     ]
    },
    {
     "name": "stdout",
     "output_type": "stream",
     "text": [
      "Downloading: 100%|\u001b[32m██████████\u001b[0m|\n"
     ]
    },
    {
     "name": "stderr",
     "output_type": "stream",
     "text": [
      "Salvando arquivos Parquet: 100%|██████████| 2261956/2261956 [03:24<00:00, 11050.43linhas/s]"
     ]
    },
    {
     "name": "stdout",
     "output_type": "stream",
     "text": [
      "✔️ 2019_part_1.parquet salvo com 38.27 MB (2261956 linhas)\n",
      "✅ Todos os arquivos salvos com sucesso.\n"
     ]
    },
    {
     "name": "stderr",
     "output_type": "stream",
     "text": [
      "\n"
     ]
    },
    {
     "name": "stdout",
     "output_type": "stream",
     "text": [
      "Downloading: 100%|\u001b[32m██████████\u001b[0m|\n"
     ]
    },
    {
     "name": "stderr",
     "output_type": "stream",
     "text": [
      "Salvando arquivos Parquet: 100%|██████████| 478880/478880 [00:40<00:00, 11857.61linhas/s]"
     ]
    },
    {
     "name": "stdout",
     "output_type": "stream",
     "text": [
      "✔️ 2018_part_1.parquet salvo com 8.01 MB (478880 linhas)\n",
      "✅ Todos os arquivos salvos com sucesso.\n"
     ]
    },
    {
     "name": "stderr",
     "output_type": "stream",
     "text": [
      "\n"
     ]
    },
    {
     "name": "stdout",
     "output_type": "stream",
     "text": [
      "Downloading: 100%|\u001b[32m██████████\u001b[0m|\n"
     ]
    },
    {
     "name": "stderr",
     "output_type": "stream",
     "text": [
      "Salvando arquivos Parquet: 100%|██████████| 518483/518483 [00:45<00:00, 11452.42linhas/s]"
     ]
    },
    {
     "name": "stdout",
     "output_type": "stream",
     "text": [
      "✔️ 2017_part_1.parquet salvo com 7.97 MB (518483 linhas)\n",
      "✅ Todos os arquivos salvos com sucesso.\n"
     ]
    },
    {
     "name": "stderr",
     "output_type": "stream",
     "text": [
      "\n"
     ]
    },
    {
     "name": "stdout",
     "output_type": "stream",
     "text": [
      "Downloading: 100%|\u001b[32m██████████\u001b[0m|\n"
     ]
    },
    {
     "name": "stderr",
     "output_type": "stream",
     "text": [
      "Salvando arquivos Parquet: 100%|██████████| 2298020/2298020 [05:02<00:00, 7599.17linhas/s]"
     ]
    },
    {
     "name": "stdout",
     "output_type": "stream",
     "text": [
      "✔️ 2016_part_1.parquet salvo com 37.98 MB (2298020 linhas)\n",
      "✅ Todos os arquivos salvos com sucesso.\n"
     ]
    },
    {
     "name": "stderr",
     "output_type": "stream",
     "text": [
      "\n"
     ]
    },
    {
     "name": "stdout",
     "output_type": "stream",
     "text": [
      "Downloading: 100%|\u001b[32m██████████\u001b[0m|\n"
     ]
    },
    {
     "name": "stderr",
     "output_type": "stream",
     "text": [
      "Salvando arquivos Parquet: 100%|██████████| 2398060/2398060 [03:06<00:00, 12859.44linhas/s]"
     ]
    },
    {
     "name": "stdout",
     "output_type": "stream",
     "text": [
      "✔️ 2015_part_1.parquet salvo com 36.41 MB (2398060 linhas)\n",
      "✅ Todos os arquivos salvos com sucesso.\n"
     ]
    },
    {
     "name": "stderr",
     "output_type": "stream",
     "text": [
      "\n"
     ]
    },
    {
     "name": "stdout",
     "output_type": "stream",
     "text": [
      "Downloading: 100%|\u001b[32m██████████\u001b[0m|\n"
     ]
    },
    {
     "name": "stderr",
     "output_type": "stream",
     "text": [
      "Salvando arquivos Parquet: 100%|██████████| 966619/966619 [00:58<00:00, 16546.92linhas/s]"
     ]
    },
    {
     "name": "stdout",
     "output_type": "stream",
     "text": [
      "✔️ 2014_part_1.parquet salvo com 12.34 MB (966619 linhas)\n",
      "✅ Todos os arquivos salvos com sucesso.\n"
     ]
    },
    {
     "name": "stderr",
     "output_type": "stream",
     "text": [
      "\n"
     ]
    },
    {
     "name": "stdout",
     "output_type": "stream",
     "text": [
      "Downloading: 100%|\u001b[32m██████████\u001b[0m|\n"
     ]
    },
    {
     "name": "stderr",
     "output_type": "stream",
     "text": [
      "Salvando arquivos Parquet: 100%|██████████| 2035119/2035119 [02:14<00:00, 15166.36linhas/s]"
     ]
    },
    {
     "name": "stdout",
     "output_type": "stream",
     "text": [
      "✔️ 2013_part_1.parquet salvo com 25.11 MB (2035119 linhas)\n",
      "✅ Todos os arquivos salvos com sucesso.\n"
     ]
    },
    {
     "name": "stderr",
     "output_type": "stream",
     "text": [
      "\n"
     ]
    },
    {
     "name": "stdout",
     "output_type": "stream",
     "text": [
      "Downloading: 100%|\u001b[32m██████████\u001b[0m|\n"
     ]
    },
    {
     "name": "stderr",
     "output_type": "stream",
     "text": [
      "Salvando arquivos Parquet: 100%|██████████| 950180/950180 [00:51<00:00, 18322.98linhas/s]"
     ]
    },
    {
     "name": "stdout",
     "output_type": "stream",
     "text": [
      "✔️ 2012_part_1.parquet salvo com 11.06 MB (950180 linhas)\n",
      "✅ Todos os arquivos salvos com sucesso.\n"
     ]
    },
    {
     "name": "stderr",
     "output_type": "stream",
     "text": [
      "\n"
     ]
    },
    {
     "name": "stdout",
     "output_type": "stream",
     "text": [
      "Downloading: 100%|\u001b[32m██████████\u001b[0m|\n"
     ]
    },
    {
     "name": "stderr",
     "output_type": "stream",
     "text": [
      "Salvando arquivos Parquet: 100%|██████████| 1150011/1150011 [01:17<00:00, 14751.25linhas/s]"
     ]
    },
    {
     "name": "stdout",
     "output_type": "stream",
     "text": [
      "✔️ 2011_part_1.parquet salvo com 14.96 MB (1150011 linhas)\n",
      "✅ Todos os arquivos salvos com sucesso.\n"
     ]
    },
    {
     "name": "stderr",
     "output_type": "stream",
     "text": [
      "\n"
     ]
    },
    {
     "name": "stdout",
     "output_type": "stream",
     "text": [
      "Downloading: 100%|\u001b[32m██████████\u001b[0m|\n"
     ]
    },
    {
     "name": "stderr",
     "output_type": "stream",
     "text": [
      "Salvando arquivos Parquet: 100%|██████████| 1381254/1381254 [01:34<00:00, 14635.77linhas/s]"
     ]
    },
    {
     "name": "stdout",
     "output_type": "stream",
     "text": [
      "✔️ 2010_part_1.parquet salvo com 17.35 MB (1381254 linhas)\n",
      "✅ Todos os arquivos salvos com sucesso.\n"
     ]
    },
    {
     "name": "stderr",
     "output_type": "stream",
     "text": [
      "\n"
     ]
    },
    {
     "name": "stdout",
     "output_type": "stream",
     "text": [
      "Downloading: 100%|\u001b[32m██████████\u001b[0m|\n"
     ]
    },
    {
     "name": "stderr",
     "output_type": "stream",
     "text": [
      "Salvando arquivos Parquet: 100%|██████████| 600658/600658 [00:33<00:00, 17964.00linhas/s]"
     ]
    },
    {
     "name": "stdout",
     "output_type": "stream",
     "text": [
      "✔️ 2009_part_1.parquet salvo com 6.95 MB (600658 linhas)\n",
      "✅ Todos os arquivos salvos com sucesso.\n"
     ]
    },
    {
     "name": "stderr",
     "output_type": "stream",
     "text": [
      "\n"
     ]
    },
    {
     "name": "stdout",
     "output_type": "stream",
     "text": [
      "Downloading: 100%|\u001b[32m██████████\u001b[0m|\n"
     ]
    },
    {
     "name": "stderr",
     "output_type": "stream",
     "text": [
      "Salvando arquivos Parquet: 100%|██████████| 919324/919324 [00:55<00:00, 16630.81linhas/s]"
     ]
    },
    {
     "name": "stdout",
     "output_type": "stream",
     "text": [
      "✔️ 2008_part_1.parquet salvo com 9.98 MB (919324 linhas)\n",
      "✅ Todos os arquivos salvos com sucesso.\n"
     ]
    },
    {
     "name": "stderr",
     "output_type": "stream",
     "text": [
      "\n"
     ]
    },
    {
     "name": "stdout",
     "output_type": "stream",
     "text": [
      "Downloading: 100%|\u001b[32m██████████\u001b[0m|\n"
     ]
    },
    {
     "name": "stderr",
     "output_type": "stream",
     "text": [
      "Salvando arquivos Parquet: 100%|██████████| 717097/717097 [00:40<00:00, 17890.11linhas/s]"
     ]
    },
    {
     "name": "stdout",
     "output_type": "stream",
     "text": [
      "✔️ 2007_part_1.parquet salvo com 8.00 MB (717097 linhas)\n",
      "✅ Todos os arquivos salvos com sucesso.\n"
     ]
    },
    {
     "name": "stderr",
     "output_type": "stream",
     "text": [
      "\n"
     ]
    },
    {
     "name": "stdout",
     "output_type": "stream",
     "text": [
      "Downloading: 100%|\u001b[32m██████████\u001b[0m|\n"
     ]
    },
    {
     "name": "stderr",
     "output_type": "stream",
     "text": [
      "Salvando arquivos Parquet: 100%|██████████| 411022/411022 [00:31<00:00, 12912.51linhas/s]"
     ]
    },
    {
     "name": "stdout",
     "output_type": "stream",
     "text": [
      "✔️ 2006_part_1.parquet salvo com 6.96 MB (411022 linhas)\n",
      "✅ Todos os arquivos salvos com sucesso.\n"
     ]
    },
    {
     "name": "stderr",
     "output_type": "stream",
     "text": [
      "\n"
     ]
    },
    {
     "name": "stdout",
     "output_type": "stream",
     "text": [
      "Downloading: 100%|\u001b[32m██████████\u001b[0m|\n"
     ]
    },
    {
     "name": "stderr",
     "output_type": "stream",
     "text": [
      "Salvando arquivos Parquet: 100%|██████████| 261501/261501 [00:18<00:00, 14129.70linhas/s]"
     ]
    },
    {
     "name": "stdout",
     "output_type": "stream",
     "text": [
      "✔️ 2005_part_1.parquet salvo com 4.44 MB (261501 linhas)\n",
      "✅ Todos os arquivos salvos com sucesso.\n"
     ]
    },
    {
     "name": "stderr",
     "output_type": "stream",
     "text": [
      "\n"
     ]
    },
    {
     "name": "stdout",
     "output_type": "stream",
     "text": [
      "Downloading: 100%|\u001b[32m██████████\u001b[0m|\n"
     ]
    },
    {
     "name": "stderr",
     "output_type": "stream",
     "text": [
      "Salvando arquivos Parquet: 100%|██████████| 136867/136867 [00:10<00:00, 12576.56linhas/s]"
     ]
    },
    {
     "name": "stdout",
     "output_type": "stream",
     "text": [
      "✔️ 2004_part_1.parquet salvo com 2.54 MB (136867 linhas)\n",
      "✅ Todos os arquivos salvos com sucesso.\n"
     ]
    },
    {
     "name": "stderr",
     "output_type": "stream",
     "text": [
      "\n"
     ]
    },
    {
     "name": "stdout",
     "output_type": "stream",
     "text": [
      "Downloading: 100%|\u001b[32m██████████\u001b[0m|\n"
     ]
    },
    {
     "name": "stderr",
     "output_type": "stream",
     "text": [
      "Salvando arquivos Parquet: 100%|██████████| 416609/416609 [00:29<00:00, 13908.85linhas/s]"
     ]
    },
    {
     "name": "stdout",
     "output_type": "stream",
     "text": [
      "✔️ 2003_part_1.parquet salvo com 6.35 MB (416609 linhas)\n",
      "✅ Todos os arquivos salvos com sucesso.\n"
     ]
    },
    {
     "name": "stderr",
     "output_type": "stream",
     "text": [
      "\n"
     ]
    },
    {
     "name": "stdout",
     "output_type": "stream",
     "text": [
      "Downloading: 100%|\u001b[32m██████████\u001b[0m|\n"
     ]
    },
    {
     "name": "stderr",
     "output_type": "stream",
     "text": [
      "Salvando arquivos Parquet: 100%|██████████| 897093/897093 [01:08<00:00, 13121.02linhas/s]"
     ]
    },
    {
     "name": "stdout",
     "output_type": "stream",
     "text": [
      "✔️ 2002_part_1.parquet salvo com 11.40 MB (897093 linhas)\n",
      "✅ Todos os arquivos salvos com sucesso.\n"
     ]
    },
    {
     "name": "stderr",
     "output_type": "stream",
     "text": [
      "\n"
     ]
    },
    {
     "name": "stdout",
     "output_type": "stream",
     "text": [
      "Downloading: 100%|\u001b[32m██████████\u001b[0m|\n"
     ]
    },
    {
     "name": "stderr",
     "output_type": "stream",
     "text": [
      "Salvando arquivos Parquet: 100%|██████████| 488590/488590 [00:29<00:00, 16745.27linhas/s]"
     ]
    },
    {
     "name": "stdout",
     "output_type": "stream",
     "text": [
      "✔️ 2001_part_1.parquet salvo com 5.59 MB (488590 linhas)\n",
      "✅ Todos os arquivos salvos com sucesso.\n"
     ]
    },
    {
     "name": "stderr",
     "output_type": "stream",
     "text": [
      "\n"
     ]
    },
    {
     "name": "stdout",
     "output_type": "stream",
     "text": [
      "Downloading: 100%|\u001b[32m██████████\u001b[0m|\n"
     ]
    },
    {
     "name": "stderr",
     "output_type": "stream",
     "text": [
      "Salvando arquivos Parquet: 100%|██████████| 172855/172855 [00:09<00:00, 17696.54linhas/s]"
     ]
    },
    {
     "name": "stdout",
     "output_type": "stream",
     "text": [
      "✔️ 2000_part_1.parquet salvo com 1.66 MB (172855 linhas)\n",
      "✅ Todos os arquivos salvos com sucesso.\n"
     ]
    },
    {
     "name": "stderr",
     "output_type": "stream",
     "text": [
      "\n"
     ]
    }
   ],
   "source": [
    "anos = df_notificacoes.ano.unique()\n",
    "\n",
    "for ano in anos:\n",
    "    query = f\"\"\"\n",
    "        SELECT *\n",
    "        FROM `basedosdados.br_ms_sinan.microdados_dengue`\n",
    "        WHERE ano = {ano}\n",
    "    \"\"\"\n",
    "\n",
    "    df = bd.read_sql(query=query, billing_project_id=billing_id)\n",
    "    save_parquet_in_chunks(df,\n",
    "                           f\"data/staging/sinan/microdados_dengue/ano/{ano}/{ano}\",\n",
    "                           100,\n",
    "                           compression='brotli'\n",
    "                           ) "
   ]
  },
  {
   "cell_type": "markdown",
   "id": "f0601915",
   "metadata": {},
   "source": [
    "## analytical "
   ]
  },
  {
   "cell_type": "code",
   "execution_count": 12,
   "id": "fb859154",
   "metadata": {},
   "outputs": [
    {
     "data": {
      "text/html": [
       "<span style=\"None\">Running query in &#x27;bigquery://barnabe-bq&#x27;</span>"
      ],
      "text/plain": [
       "Running query in 'bigquery://barnabe-bq'"
      ]
     },
     "metadata": {},
     "output_type": "display_data"
    },
    {
     "data": {
      "text/html": [
       "<span style=\"color: green\">26 rows affected.</span>"
      ],
      "text/plain": [
       "26 rows affected."
      ]
     },
     "metadata": {},
     "output_type": "display_data"
    }
   ],
   "source": [
    "%%sql df_notificacoes <<\n",
    "SELECT ano, count(*) as qt FROM `basedosdados.br_ms_sinan.microdados_dengue` group by 1 order by 1 desc\n",
    " "
   ]
  },
  {
   "cell_type": "code",
   "execution_count": 13,
   "id": "0cb1c1d7",
   "metadata": {},
   "outputs": [],
   "source": [
    "anos = df_notificacoes.ano.unique()"
   ]
  },
  {
   "cell_type": "code",
   "execution_count": 14,
   "id": "f7091e97",
   "metadata": {},
   "outputs": [
    {
     "name": "stdout",
     "output_type": "stream",
     "text": [
      "Downloading: 100%|\u001b[32m██████████\u001b[0m|\n"
     ]
    },
    {
     "name": "stderr",
     "output_type": "stream",
     "text": [
      "Salvando arquivos Parquet: 100%|██████████| 1105897/1105897 [02:04<00:00, 8896.40linhas/s]"
     ]
    },
    {
     "name": "stdout",
     "output_type": "stream",
     "text": [
      "✔️ 2025_part_1.parquet salvo com 24.14 MB (1105897 linhas)\n",
      "✅ Todos os arquivos salvos com sucesso.\n"
     ]
    },
    {
     "name": "stderr",
     "output_type": "stream",
     "text": [
      "\n"
     ]
    },
    {
     "name": "stdout",
     "output_type": "stream",
     "text": [
      "Downloading: 100%|\u001b[32m██████████\u001b[0m|\n"
     ]
    },
    {
     "name": "stderr",
     "output_type": "stream",
     "text": [
      "Salvando arquivos Parquet:  79%|███████▉  | 5104810/6442122 [12:02<03:09, 7062.58linhas/s]"
     ]
    },
    {
     "name": "stdout",
     "output_type": "stream",
     "text": [
      "✔️ 2024_part_1.parquet salvo com 100.00 MB (5104810 linhas)\n"
     ]
    },
    {
     "name": "stderr",
     "output_type": "stream",
     "text": [
      "Salvando arquivos Parquet: 100%|██████████| 6442122/6442122 [14:25<00:00, 7439.66linhas/s]"
     ]
    },
    {
     "name": "stdout",
     "output_type": "stream",
     "text": [
      "✔️ 2024_part_2.parquet salvo com 26.48 MB (1337312 linhas)\n",
      "✅ Todos os arquivos salvos com sucesso.\n"
     ]
    },
    {
     "name": "stderr",
     "output_type": "stream",
     "text": [
      "\n"
     ]
    },
    {
     "name": "stdout",
     "output_type": "stream",
     "text": [
      "Downloading: 100%|\u001b[32m██████████\u001b[0m|\n"
     ]
    },
    {
     "name": "stderr",
     "output_type": "stream",
     "text": [
      "Salvando arquivos Parquet: 100%|██████████| 1508653/1508653 [02:29<00:00, 10076.20linhas/s]"
     ]
    },
    {
     "name": "stdout",
     "output_type": "stream",
     "text": [
      "✔️ 2023_part_1.parquet salvo com 23.75 MB (1508653 linhas)\n",
      "✅ Todos os arquivos salvos com sucesso.\n"
     ]
    },
    {
     "name": "stderr",
     "output_type": "stream",
     "text": [
      "\n"
     ]
    },
    {
     "name": "stdout",
     "output_type": "stream",
     "text": [
      "Downloading: 100%|\u001b[32m██████████\u001b[0m|\n"
     ]
    },
    {
     "name": "stderr",
     "output_type": "stream",
     "text": [
      "Salvando arquivos Parquet: 100%|██████████| 1393877/1393877 [02:21<00:00, 9878.18linhas/s]"
     ]
    },
    {
     "name": "stdout",
     "output_type": "stream",
     "text": [
      "✔️ 2022_part_1.parquet salvo com 25.94 MB (1393877 linhas)\n",
      "✅ Todos os arquivos salvos com sucesso.\n"
     ]
    },
    {
     "name": "stderr",
     "output_type": "stream",
     "text": [
      "\n"
     ]
    },
    {
     "name": "stdout",
     "output_type": "stream",
     "text": [
      "Downloading: 100%|\u001b[32m██████████\u001b[0m|\n"
     ]
    },
    {
     "name": "stderr",
     "output_type": "stream",
     "text": [
      "Salvando arquivos Parquet: 100%|██████████| 1010359/1010359 [01:31<00:00, 11047.22linhas/s]"
     ]
    },
    {
     "name": "stdout",
     "output_type": "stream",
     "text": [
      "✔️ 2021_part_1.parquet salvo com 17.90 MB (1010359 linhas)\n",
      "✅ Todos os arquivos salvos com sucesso.\n"
     ]
    },
    {
     "name": "stderr",
     "output_type": "stream",
     "text": [
      "\n"
     ]
    },
    {
     "name": "stdout",
     "output_type": "stream",
     "text": [
      "Downloading: 100%|\u001b[32m██████████\u001b[0m|\n"
     ]
    },
    {
     "name": "stderr",
     "output_type": "stream",
     "text": [
      "Salvando arquivos Parquet: 100%|██████████| 1495117/1495117 [02:22<00:00, 10459.17linhas/s]"
     ]
    },
    {
     "name": "stdout",
     "output_type": "stream",
     "text": [
      "✔️ 2020_part_1.parquet salvo com 22.68 MB (1495117 linhas)\n",
      "✅ Todos os arquivos salvos com sucesso.\n"
     ]
    },
    {
     "name": "stderr",
     "output_type": "stream",
     "text": [
      "\n"
     ]
    },
    {
     "name": "stdout",
     "output_type": "stream",
     "text": [
      "Downloading: 100%|\u001b[32m██████████\u001b[0m|\n"
     ]
    },
    {
     "name": "stderr",
     "output_type": "stream",
     "text": [
      "Salvando arquivos Parquet: 100%|██████████| 2261956/2261956 [04:05<00:00, 9220.30linhas/s]"
     ]
    },
    {
     "name": "stdout",
     "output_type": "stream",
     "text": [
      "✔️ 2019_part_1.parquet salvo com 42.24 MB (2261956 linhas)\n",
      "✅ Todos os arquivos salvos com sucesso.\n"
     ]
    },
    {
     "name": "stderr",
     "output_type": "stream",
     "text": [
      "\n"
     ]
    },
    {
     "name": "stdout",
     "output_type": "stream",
     "text": [
      "Downloading: 100%|\u001b[32m██████████\u001b[0m|\n"
     ]
    },
    {
     "name": "stderr",
     "output_type": "stream",
     "text": [
      "Salvando arquivos Parquet: 100%|██████████| 478880/478880 [00:38<00:00, 12338.53linhas/s]"
     ]
    },
    {
     "name": "stdout",
     "output_type": "stream",
     "text": [
      "✔️ 2018_part_1.parquet salvo com 8.99 MB (478880 linhas)\n",
      "✅ Todos os arquivos salvos com sucesso.\n"
     ]
    },
    {
     "name": "stderr",
     "output_type": "stream",
     "text": [
      "\n"
     ]
    },
    {
     "name": "stdout",
     "output_type": "stream",
     "text": [
      "Downloading: 100%|\u001b[32m██████████\u001b[0m|\n"
     ]
    },
    {
     "name": "stderr",
     "output_type": "stream",
     "text": [
      "Salvando arquivos Parquet: 100%|██████████| 518483/518483 [00:41<00:00, 12571.18linhas/s]"
     ]
    },
    {
     "name": "stdout",
     "output_type": "stream",
     "text": [
      "✔️ 2017_part_1.parquet salvo com 9.00 MB (518483 linhas)\n",
      "✅ Todos os arquivos salvos com sucesso.\n"
     ]
    },
    {
     "name": "stderr",
     "output_type": "stream",
     "text": [
      "\n"
     ]
    },
    {
     "name": "stdout",
     "output_type": "stream",
     "text": [
      "Downloading: 100%|\u001b[32m██████████\u001b[0m|\n"
     ]
    },
    {
     "name": "stderr",
     "output_type": "stream",
     "text": [
      "Salvando arquivos Parquet: 100%|██████████| 2298020/2298020 [03:55<00:00, 9741.75linhas/s]"
     ]
    },
    {
     "name": "stdout",
     "output_type": "stream",
     "text": [
      "✔️ 2016_part_1.parquet salvo com 41.96 MB (2298020 linhas)\n",
      "✅ Todos os arquivos salvos com sucesso.\n"
     ]
    },
    {
     "name": "stderr",
     "output_type": "stream",
     "text": [
      "\n"
     ]
    },
    {
     "name": "stdout",
     "output_type": "stream",
     "text": [
      "Downloading: 100%|\u001b[32m██████████\u001b[0m|\n"
     ]
    },
    {
     "name": "stderr",
     "output_type": "stream",
     "text": [
      "Salvando arquivos Parquet: 100%|██████████| 2398060/2398060 [03:44<00:00, 10667.92linhas/s]"
     ]
    },
    {
     "name": "stdout",
     "output_type": "stream",
     "text": [
      "✔️ 2015_part_1.parquet salvo com 40.68 MB (2398060 linhas)\n",
      "✅ Todos os arquivos salvos com sucesso.\n"
     ]
    },
    {
     "name": "stderr",
     "output_type": "stream",
     "text": [
      "\n"
     ]
    },
    {
     "name": "stdout",
     "output_type": "stream",
     "text": [
      "Downloading: 100%|\u001b[32m██████████\u001b[0m|\n"
     ]
    },
    {
     "name": "stderr",
     "output_type": "stream",
     "text": [
      "Salvando arquivos Parquet: 100%|██████████| 966619/966619 [01:13<00:00, 13183.22linhas/s]"
     ]
    },
    {
     "name": "stdout",
     "output_type": "stream",
     "text": [
      "✔️ 2014_part_1.parquet salvo com 13.41 MB (966619 linhas)\n",
      "✅ Todos os arquivos salvos com sucesso.\n"
     ]
    },
    {
     "name": "stderr",
     "output_type": "stream",
     "text": [
      "\n"
     ]
    },
    {
     "name": "stdout",
     "output_type": "stream",
     "text": [
      "Downloading: 100%|\u001b[32m██████████\u001b[0m|\n"
     ]
    },
    {
     "name": "stderr",
     "output_type": "stream",
     "text": [
      "Salvando arquivos Parquet: 100%|██████████| 2035119/2035119 [02:41<00:00, 12627.08linhas/s]"
     ]
    },
    {
     "name": "stdout",
     "output_type": "stream",
     "text": [
      "✔️ 2013_part_1.parquet salvo com 23.42 MB (2035119 linhas)\n",
      "✅ Todos os arquivos salvos com sucesso.\n"
     ]
    },
    {
     "name": "stderr",
     "output_type": "stream",
     "text": [
      "\n"
     ]
    },
    {
     "name": "stdout",
     "output_type": "stream",
     "text": [
      "Downloading: 100%|\u001b[32m██████████\u001b[0m|\n"
     ]
    },
    {
     "name": "stderr",
     "output_type": "stream",
     "text": [
      "Salvando arquivos Parquet: 100%|██████████| 950180/950180 [01:11<00:00, 13280.43linhas/s]"
     ]
    },
    {
     "name": "stdout",
     "output_type": "stream",
     "text": [
      "✔️ 2012_part_1.parquet salvo com 11.79 MB (950180 linhas)\n",
      "✅ Todos os arquivos salvos com sucesso.\n"
     ]
    },
    {
     "name": "stderr",
     "output_type": "stream",
     "text": [
      "\n"
     ]
    },
    {
     "name": "stdout",
     "output_type": "stream",
     "text": [
      "Downloading: 100%|\u001b[32m██████████\u001b[0m|\n"
     ]
    },
    {
     "name": "stderr",
     "output_type": "stream",
     "text": [
      "Salvando arquivos Parquet: 100%|██████████| 1150011/1150011 [01:33<00:00, 12361.42linhas/s]"
     ]
    },
    {
     "name": "stdout",
     "output_type": "stream",
     "text": [
      "✔️ 2011_part_1.parquet salvo com 14.66 MB (1150011 linhas)\n",
      "✅ Todos os arquivos salvos com sucesso.\n"
     ]
    },
    {
     "name": "stderr",
     "output_type": "stream",
     "text": [
      "\n"
     ]
    },
    {
     "name": "stdout",
     "output_type": "stream",
     "text": [
      "Downloading: 100%|\u001b[32m██████████\u001b[0m|\n"
     ]
    },
    {
     "name": "stderr",
     "output_type": "stream",
     "text": [
      "Salvando arquivos Parquet: 100%|██████████| 1381254/1381254 [01:50<00:00, 12498.44linhas/s]"
     ]
    },
    {
     "name": "stdout",
     "output_type": "stream",
     "text": [
      "✔️ 2010_part_1.parquet salvo com 16.74 MB (1381254 linhas)\n",
      "✅ Todos os arquivos salvos com sucesso.\n"
     ]
    },
    {
     "name": "stderr",
     "output_type": "stream",
     "text": [
      "\n"
     ]
    },
    {
     "name": "stdout",
     "output_type": "stream",
     "text": [
      "Downloading: 100%|\u001b[32m██████████\u001b[0m|\n"
     ]
    },
    {
     "name": "stderr",
     "output_type": "stream",
     "text": [
      "Salvando arquivos Parquet: 100%|██████████| 600658/600658 [00:57<00:00, 10369.92linhas/s]"
     ]
    },
    {
     "name": "stdout",
     "output_type": "stream",
     "text": [
      "✔️ 2009_part_1.parquet salvo com 7.50 MB (600658 linhas)\n",
      "✅ Todos os arquivos salvos com sucesso.\n"
     ]
    },
    {
     "name": "stderr",
     "output_type": "stream",
     "text": [
      "\n"
     ]
    },
    {
     "name": "stdout",
     "output_type": "stream",
     "text": [
      "Downloading: 100%|\u001b[32m██████████\u001b[0m|\n"
     ]
    },
    {
     "name": "stderr",
     "output_type": "stream",
     "text": [
      "Salvando arquivos Parquet: 100%|██████████| 919324/919324 [01:07<00:00, 13572.19linhas/s]"
     ]
    },
    {
     "name": "stdout",
     "output_type": "stream",
     "text": [
      "✔️ 2008_part_1.parquet salvo com 10.53 MB (919324 linhas)\n",
      "✅ Todos os arquivos salvos com sucesso.\n"
     ]
    },
    {
     "name": "stderr",
     "output_type": "stream",
     "text": [
      "\n"
     ]
    },
    {
     "name": "stdout",
     "output_type": "stream",
     "text": [
      "Downloading: 100%|\u001b[32m██████████\u001b[0m|\n"
     ]
    },
    {
     "name": "stderr",
     "output_type": "stream",
     "text": [
      "Salvando arquivos Parquet: 100%|██████████| 717097/717097 [00:51<00:00, 13906.90linhas/s]"
     ]
    },
    {
     "name": "stdout",
     "output_type": "stream",
     "text": [
      "✔️ 2007_part_1.parquet salvo com 8.24 MB (717097 linhas)\n",
      "✅ Todos os arquivos salvos com sucesso.\n"
     ]
    },
    {
     "name": "stderr",
     "output_type": "stream",
     "text": [
      "\n"
     ]
    },
    {
     "name": "stdout",
     "output_type": "stream",
     "text": [
      "Downloading: 100%|\u001b[32m██████████\u001b[0m|\n"
     ]
    },
    {
     "name": "stderr",
     "output_type": "stream",
     "text": [
      "Salvando arquivos Parquet: 100%|██████████| 411022/411022 [00:31<00:00, 12864.02linhas/s]"
     ]
    },
    {
     "name": "stdout",
     "output_type": "stream",
     "text": [
      "✔️ 2006_part_1.parquet salvo com 6.22 MB (411022 linhas)\n",
      "✅ Todos os arquivos salvos com sucesso.\n"
     ]
    },
    {
     "name": "stderr",
     "output_type": "stream",
     "text": [
      "\n"
     ]
    },
    {
     "name": "stdout",
     "output_type": "stream",
     "text": [
      "Downloading: 100%|\u001b[32m██████████\u001b[0m|\n"
     ]
    },
    {
     "name": "stderr",
     "output_type": "stream",
     "text": [
      "Salvando arquivos Parquet: 100%|██████████| 261501/261501 [00:19<00:00, 13625.25linhas/s]"
     ]
    },
    {
     "name": "stdout",
     "output_type": "stream",
     "text": [
      "✔️ 2005_part_1.parquet salvo com 4.05 MB (261501 linhas)\n",
      "✅ Todos os arquivos salvos com sucesso.\n"
     ]
    },
    {
     "name": "stderr",
     "output_type": "stream",
     "text": [
      "\n"
     ]
    },
    {
     "name": "stdout",
     "output_type": "stream",
     "text": [
      "Downloading: 100%|\u001b[32m██████████\u001b[0m|\n"
     ]
    },
    {
     "name": "stderr",
     "output_type": "stream",
     "text": [
      "Salvando arquivos Parquet: 100%|██████████| 136867/136867 [00:11<00:00, 12048.94linhas/s]"
     ]
    },
    {
     "name": "stdout",
     "output_type": "stream",
     "text": [
      "✔️ 2004_part_1.parquet salvo com 2.36 MB (136867 linhas)\n",
      "✅ Todos os arquivos salvos com sucesso.\n"
     ]
    },
    {
     "name": "stderr",
     "output_type": "stream",
     "text": [
      "\n"
     ]
    },
    {
     "name": "stdout",
     "output_type": "stream",
     "text": [
      "Downloading: 100%|\u001b[32m██████████\u001b[0m|\n"
     ]
    },
    {
     "name": "stderr",
     "output_type": "stream",
     "text": [
      "Salvando arquivos Parquet: 100%|██████████| 416609/416609 [00:31<00:00, 13109.03linhas/s]"
     ]
    },
    {
     "name": "stdout",
     "output_type": "stream",
     "text": [
      "✔️ 2003_part_1.parquet salvo com 5.84 MB (416609 linhas)\n",
      "✅ Todos os arquivos salvos com sucesso.\n"
     ]
    },
    {
     "name": "stderr",
     "output_type": "stream",
     "text": [
      "\n"
     ]
    },
    {
     "name": "stdout",
     "output_type": "stream",
     "text": [
      "Downloading: 100%|\u001b[32m██████████\u001b[0m|\n"
     ]
    },
    {
     "name": "stderr",
     "output_type": "stream",
     "text": [
      "Salvando arquivos Parquet: 100%|██████████| 897093/897093 [01:14<00:00, 12119.43linhas/s]"
     ]
    },
    {
     "name": "stdout",
     "output_type": "stream",
     "text": [
      "✔️ 2002_part_1.parquet salvo com 10.55 MB (897093 linhas)\n",
      "✅ Todos os arquivos salvos com sucesso.\n"
     ]
    },
    {
     "name": "stderr",
     "output_type": "stream",
     "text": [
      "\n"
     ]
    },
    {
     "name": "stdout",
     "output_type": "stream",
     "text": [
      "Downloading: 100%|\u001b[32m██████████\u001b[0m|\n"
     ]
    },
    {
     "name": "stderr",
     "output_type": "stream",
     "text": [
      "Salvando arquivos Parquet: 100%|██████████| 488590/488590 [00:33<00:00, 14659.21linhas/s]"
     ]
    },
    {
     "name": "stdout",
     "output_type": "stream",
     "text": [
      "✔️ 2001_part_1.parquet salvo com 5.46 MB (488590 linhas)\n",
      "✅ Todos os arquivos salvos com sucesso.\n"
     ]
    },
    {
     "name": "stderr",
     "output_type": "stream",
     "text": [
      "\n"
     ]
    },
    {
     "name": "stdout",
     "output_type": "stream",
     "text": [
      "Downloading: 100%|\u001b[32m██████████\u001b[0m|\n"
     ]
    },
    {
     "name": "stderr",
     "output_type": "stream",
     "text": [
      "Salvando arquivos Parquet: 100%|██████████| 172855/172855 [00:10<00:00, 16705.84linhas/s]"
     ]
    },
    {
     "name": "stdout",
     "output_type": "stream",
     "text": [
      "✔️ 2000_part_1.parquet salvo com 1.72 MB (172855 linhas)\n",
      "✅ Todos os arquivos salvos com sucesso.\n"
     ]
    },
    {
     "name": "stderr",
     "output_type": "stream",
     "text": [
      "\n"
     ]
    }
   ],
   "source": [
    "for ano in anos:\n",
    "    query_analytical = f\"\"\"\n",
    "  WITH \n",
    "        dicionario_tipo_notificacao AS (\n",
    "            SELECT\n",
    "                chave AS chave_tipo_notificacao,\n",
    "                valor AS descricao_tipo_notificacao\n",
    "            FROM `basedosdados.br_ms_sinan.dicionario`\n",
    "            WHERE\n",
    "                TRUE\n",
    "                AND nome_coluna = 'tipo_notificacao'\n",
    "                AND id_tabela = 'microdados_dengue'\n",
    "        ),\n",
    "        dicionario_sexo_paciente AS (\n",
    "            SELECT\n",
    "                chave AS chave_sexo_paciente,\n",
    "                valor AS descricao_sexo_paciente\n",
    "            FROM `basedosdados.br_ms_sinan.dicionario`\n",
    "            WHERE\n",
    "                TRUE\n",
    "                AND nome_coluna = 'sexo_paciente'\n",
    "                AND id_tabela = 'microdados_dengue'\n",
    "        ),\n",
    "        dicionario_raca_cor_paciente AS (\n",
    "            SELECT\n",
    "                chave AS chave_raca_cor_paciente,\n",
    "                valor AS descricao_raca_cor_paciente\n",
    "            FROM `basedosdados.br_ms_sinan.dicionario`\n",
    "            WHERE\n",
    "                TRUE\n",
    "                AND nome_coluna = 'raca_cor_paciente'\n",
    "                AND id_tabela = 'microdados_dengue'\n",
    "        ),\n",
    "        dicionario_escolaridade_paciente AS (\n",
    "            SELECT\n",
    "                chave AS chave_escolaridade_paciente,\n",
    "                valor AS descricao_escolaridade_paciente\n",
    "            FROM `basedosdados.br_ms_sinan.dicionario`\n",
    "            WHERE\n",
    "                TRUE\n",
    "                AND nome_coluna = 'escolaridade_paciente'\n",
    "                AND id_tabela = 'microdados_dengue'\n",
    "        ),\n",
    "        dicionario_gestante_paciente AS (\n",
    "            SELECT\n",
    "                chave AS chave_gestante_paciente,\n",
    "                valor AS descricao_gestante_paciente\n",
    "            FROM `basedosdados.br_ms_sinan.dicionario`\n",
    "            WHERE\n",
    "                TRUE\n",
    "                AND nome_coluna = 'gestante_paciente'\n",
    "                AND id_tabela = 'microdados_dengue'\n",
    "        ),\n",
    "        dicionario_possui_doenca_autoimune AS (\n",
    "            SELECT\n",
    "                chave AS chave_possui_doenca_autoimune,\n",
    "                valor AS descricao_possui_doenca_autoimune\n",
    "            FROM `basedosdados.br_ms_sinan.dicionario`\n",
    "            WHERE\n",
    "                TRUE\n",
    "                AND nome_coluna = 'possui_doenca_autoimune'\n",
    "                AND id_tabela = 'microdados_dengue'\n",
    "        ),\n",
    "        dicionario_possui_diabetes AS (\n",
    "            SELECT\n",
    "                chave AS chave_possui_diabetes,\n",
    "                valor AS descricao_possui_diabetes\n",
    "            FROM `basedosdados.br_ms_sinan.dicionario`\n",
    "            WHERE\n",
    "                TRUE\n",
    "                AND nome_coluna = 'possui_diabetes'\n",
    "                AND id_tabela = 'microdados_dengue'\n",
    "        ),\n",
    "        dicionario_possui_doencas_hematologicas AS (\n",
    "            SELECT\n",
    "                chave AS chave_possui_doencas_hematologicas,\n",
    "                valor AS descricao_possui_doencas_hematologicas\n",
    "            FROM `basedosdados.br_ms_sinan.dicionario`\n",
    "            WHERE\n",
    "                TRUE\n",
    "                AND nome_coluna = 'possui_doencas_hematologicas'\n",
    "                AND id_tabela = 'microdados_dengue'\n",
    "        ),\n",
    "        dicionario_possui_hepatopatias AS (\n",
    "            SELECT\n",
    "                chave AS chave_possui_hepatopatias,\n",
    "                valor AS descricao_possui_hepatopatias\n",
    "            FROM `basedosdados.br_ms_sinan.dicionario`\n",
    "            WHERE\n",
    "                TRUE\n",
    "                AND nome_coluna = 'possui_hepatopatias'\n",
    "                AND id_tabela = 'microdados_dengue'\n",
    "        ),\n",
    "        dicionario_possui_doenca_renal AS (\n",
    "            SELECT\n",
    "                chave AS chave_possui_doenca_renal,\n",
    "                valor AS descricao_possui_doenca_renal\n",
    "            FROM `basedosdados.br_ms_sinan.dicionario`\n",
    "            WHERE\n",
    "                TRUE\n",
    "                AND nome_coluna = 'possui_doenca_renal'\n",
    "                AND id_tabela = 'microdados_dengue'\n",
    "        ),\n",
    "        dicionario_possui_hipertensao AS (\n",
    "            SELECT\n",
    "                chave AS chave_possui_hipertensao,\n",
    "                valor AS descricao_possui_hipertensao\n",
    "            FROM `basedosdados.br_ms_sinan.dicionario`\n",
    "            WHERE\n",
    "                TRUE\n",
    "                AND nome_coluna = 'possui_hipertensao'\n",
    "                AND id_tabela = 'microdados_dengue'\n",
    "        ),\n",
    "        dicionario_possui_doenca_acido_peptica AS (\n",
    "            SELECT\n",
    "                chave AS chave_possui_doenca_acido_peptica,\n",
    "                valor AS descricao_possui_doenca_acido_peptica\n",
    "            FROM `basedosdados.br_ms_sinan.dicionario`\n",
    "            WHERE\n",
    "                TRUE\n",
    "                AND nome_coluna = 'possui_doenca_acido_peptica'\n",
    "                AND id_tabela = 'microdados_dengue'\n",
    "        ),\n",
    "        dicionario_paciente_vacinado AS (\n",
    "            SELECT\n",
    "                chave AS chave_paciente_vacinado,\n",
    "                valor AS descricao_paciente_vacinado\n",
    "            FROM `basedosdados.br_ms_sinan.dicionario`\n",
    "            WHERE\n",
    "                TRUE\n",
    "                AND nome_coluna = 'paciente_vacinado'\n",
    "                AND id_tabela = 'microdados_dengue'\n",
    "        ),\n",
    "        dicionario_duracao_febre AS (\n",
    "            SELECT\n",
    "                chave AS chave_duracao_febre,\n",
    "                valor AS descricao_duracao_febre\n",
    "            FROM `basedosdados.br_ms_sinan.dicionario`\n",
    "            WHERE\n",
    "                TRUE\n",
    "                AND nome_coluna = 'duracao_febre'\n",
    "                AND id_tabela = 'microdados_dengue'\n",
    "        ),\n",
    "        dicionario_apresenta_cefaleia AS (\n",
    "            SELECT\n",
    "                chave AS chave_apresenta_cefaleia,\n",
    "                valor AS descricao_apresenta_cefaleia\n",
    "            FROM `basedosdados.br_ms_sinan.dicionario`\n",
    "            WHERE\n",
    "                TRUE\n",
    "                AND nome_coluna = 'apresenta_cefaleia'\n",
    "                AND id_tabela = 'microdados_dengue'\n",
    "        ),\n",
    "        dicionario_apresenta_exantema AS (\n",
    "            SELECT\n",
    "                chave AS chave_apresenta_exantema,\n",
    "                valor AS descricao_apresenta_exantema\n",
    "            FROM `basedosdados.br_ms_sinan.dicionario`\n",
    "            WHERE\n",
    "                TRUE\n",
    "                AND nome_coluna = 'apresenta_exantema'\n",
    "                AND id_tabela = 'microdados_dengue'\n",
    "        ),\n",
    "        dicionario_apresenta_dor_costas AS (\n",
    "            SELECT\n",
    "                chave AS chave_apresenta_dor_costas,\n",
    "                valor AS descricao_apresenta_dor_costas\n",
    "            FROM `basedosdados.br_ms_sinan.dicionario`\n",
    "            WHERE\n",
    "                TRUE\n",
    "                AND nome_coluna = 'apresenta_dor_costas'\n",
    "                AND id_tabela = 'microdados_dengue'\n",
    "        ),\n",
    "        dicionario_apresenta_prostacao AS (\n",
    "            SELECT\n",
    "                chave AS chave_apresenta_prostacao,\n",
    "                valor AS descricao_apresenta_prostacao\n",
    "            FROM `basedosdados.br_ms_sinan.dicionario`\n",
    "            WHERE\n",
    "                TRUE\n",
    "                AND nome_coluna = 'apresenta_prostacao'\n",
    "                AND id_tabela = 'microdados_dengue'\n",
    "        ),\n",
    "        dicionario_apresenta_mialgia AS (\n",
    "            SELECT\n",
    "                chave AS chave_apresenta_mialgia,\n",
    "                valor AS descricao_apresenta_mialgia\n",
    "            FROM `basedosdados.br_ms_sinan.dicionario`\n",
    "            WHERE\n",
    "                TRUE\n",
    "                AND nome_coluna = 'apresenta_mialgia'\n",
    "                AND id_tabela = 'microdados_dengue'\n",
    "        ),\n",
    "        dicionario_apresenta_vomito AS (\n",
    "            SELECT\n",
    "                chave AS chave_apresenta_vomito,\n",
    "                valor AS descricao_apresenta_vomito\n",
    "            FROM `basedosdados.br_ms_sinan.dicionario`\n",
    "            WHERE\n",
    "                TRUE\n",
    "                AND nome_coluna = 'apresenta_vomito'\n",
    "                AND id_tabela = 'microdados_dengue'\n",
    "        ),\n",
    "        dicionario_apresenta_nausea AS (\n",
    "            SELECT\n",
    "                chave AS chave_apresenta_nausea,\n",
    "                valor AS descricao_apresenta_nausea\n",
    "            FROM `basedosdados.br_ms_sinan.dicionario`\n",
    "            WHERE\n",
    "                TRUE\n",
    "                AND nome_coluna = 'apresenta_nausea'\n",
    "                AND id_tabela = 'microdados_dengue'\n",
    "        ),\n",
    "        dicionario_apresenta_diarreia AS (\n",
    "            SELECT\n",
    "                chave AS chave_apresenta_diarreia,\n",
    "                valor AS descricao_apresenta_diarreia\n",
    "            FROM `basedosdados.br_ms_sinan.dicionario`\n",
    "            WHERE\n",
    "                TRUE\n",
    "                AND nome_coluna = 'apresenta_diarreia'\n",
    "                AND id_tabela = 'microdados_dengue'\n",
    "        ),\n",
    "        dicionario_apresenta_conjutivite AS (\n",
    "            SELECT\n",
    "                chave AS chave_apresenta_conjutivite,\n",
    "                valor AS descricao_apresenta_conjutivite\n",
    "            FROM `basedosdados.br_ms_sinan.dicionario`\n",
    "            WHERE\n",
    "                TRUE\n",
    "                AND nome_coluna = 'apresenta_conjutivite'\n",
    "                AND id_tabela = 'microdados_dengue'\n",
    "        ),\n",
    "        dicionario_apresenta_dor_retroorbital AS (\n",
    "            SELECT\n",
    "                chave AS chave_apresenta_dor_retroorbital,\n",
    "                valor AS descricao_apresenta_dor_retroorbital\n",
    "            FROM `basedosdados.br_ms_sinan.dicionario`\n",
    "            WHERE\n",
    "                TRUE\n",
    "                AND nome_coluna = 'apresenta_dor_retroorbital'\n",
    "                AND id_tabela = 'microdados_dengue'\n",
    "        ),\n",
    "        dicionario_apresenta_artralgia AS (\n",
    "            SELECT\n",
    "                chave AS chave_apresenta_artralgia,\n",
    "                valor AS descricao_apresenta_artralgia\n",
    "            FROM `basedosdados.br_ms_sinan.dicionario`\n",
    "            WHERE\n",
    "                TRUE\n",
    "                AND nome_coluna = 'apresenta_artralgia'\n",
    "                AND id_tabela = 'microdados_dengue'\n",
    "        ),\n",
    "        dicionario_apresenta_artrite AS (\n",
    "            SELECT\n",
    "                chave AS chave_apresenta_artrite,\n",
    "                valor AS descricao_apresenta_artrite\n",
    "            FROM `basedosdados.br_ms_sinan.dicionario`\n",
    "            WHERE\n",
    "                TRUE\n",
    "                AND nome_coluna = 'apresenta_artrite'\n",
    "                AND id_tabela = 'microdados_dengue'\n",
    "        ),\n",
    "        dicionario_apresenta_leucopenia AS (\n",
    "            SELECT\n",
    "                chave AS chave_apresenta_leucopenia,\n",
    "                valor AS descricao_apresenta_leucopenia\n",
    "            FROM `basedosdados.br_ms_sinan.dicionario`\n",
    "            WHERE\n",
    "                TRUE\n",
    "                AND nome_coluna = 'apresenta_leucopenia'\n",
    "                AND id_tabela = 'microdados_dengue'\n",
    "        ),\n",
    "        dicionario_apresenta_epistaxe AS (\n",
    "            SELECT\n",
    "                chave AS chave_apresenta_epistaxe,\n",
    "                valor AS descricao_apresenta_epistaxe\n",
    "            FROM `basedosdados.br_ms_sinan.dicionario`\n",
    "            WHERE\n",
    "                TRUE\n",
    "                AND nome_coluna = 'apresenta_epistaxe'\n",
    "                AND id_tabela = 'microdados_dengue'\n",
    "        ),\n",
    "        dicionario_apresenta_petequias AS (\n",
    "            SELECT\n",
    "                chave AS chave_apresenta_petequias,\n",
    "                valor AS descricao_apresenta_petequias\n",
    "            FROM `basedosdados.br_ms_sinan.dicionario`\n",
    "            WHERE\n",
    "                TRUE\n",
    "                AND nome_coluna = 'apresenta_petequias'\n",
    "                AND id_tabela = 'microdados_dengue'\n",
    "        ),\n",
    "        dicionario_apresenta_gengivorragia AS (\n",
    "            SELECT\n",
    "                chave AS chave_apresenta_gengivorragia,\n",
    "                valor AS descricao_apresenta_gengivorragia\n",
    "            FROM `basedosdados.br_ms_sinan.dicionario`\n",
    "            WHERE\n",
    "                TRUE\n",
    "                AND nome_coluna = 'apresenta_gengivorragia'\n",
    "                AND id_tabela = 'microdados_dengue'\n",
    "        ),\n",
    "        dicionario_apresenta_metrorragia AS (\n",
    "            SELECT\n",
    "                chave AS chave_apresenta_metrorragia,\n",
    "                valor AS descricao_apresenta_metrorragia\n",
    "            FROM `basedosdados.br_ms_sinan.dicionario`\n",
    "            WHERE\n",
    "                TRUE\n",
    "                AND nome_coluna = 'apresenta_metrorragia'\n",
    "                AND id_tabela = 'microdados_dengue'\n",
    "        ),\n",
    "        dicionario_apresenta_hematuria AS (\n",
    "            SELECT\n",
    "                chave AS chave_apresenta_hematuria,\n",
    "                valor AS descricao_apresenta_hematuria\n",
    "            FROM `basedosdados.br_ms_sinan.dicionario`\n",
    "            WHERE\n",
    "                TRUE\n",
    "                AND nome_coluna = 'apresenta_hematuria'\n",
    "                AND id_tabela = 'microdados_dengue'\n",
    "        ),\n",
    "        dicionario_apresenta_sangramento AS (\n",
    "            SELECT\n",
    "                chave AS chave_apresenta_sangramento,\n",
    "                valor AS descricao_apresenta_sangramento\n",
    "            FROM `basedosdados.br_ms_sinan.dicionario`\n",
    "            WHERE\n",
    "                TRUE\n",
    "                AND nome_coluna = 'apresenta_sangramento'\n",
    "                AND id_tabela = 'microdados_dengue'\n",
    "        ),\n",
    "        dicionario_apresenta_complicacao AS (\n",
    "            SELECT\n",
    "                chave AS chave_apresenta_complicacao,\n",
    "                valor AS descricao_apresenta_complicacao\n",
    "            FROM `basedosdados.br_ms_sinan.dicionario`\n",
    "            WHERE\n",
    "                TRUE\n",
    "                AND nome_coluna = 'apresenta_complicacao'\n",
    "                AND id_tabela = 'microdados_dengue'\n",
    "        ),\n",
    "        dicionario_apresenta_ascite AS (\n",
    "            SELECT\n",
    "                chave AS chave_apresenta_ascite,\n",
    "                valor AS descricao_apresenta_ascite\n",
    "            FROM `basedosdados.br_ms_sinan.dicionario`\n",
    "            WHERE\n",
    "                TRUE\n",
    "                AND nome_coluna = 'apresenta_ascite'\n",
    "                AND id_tabela = 'microdados_dengue'\n",
    "        ),\n",
    "        dicionario_apresenta_pleurite AS (\n",
    "            SELECT\n",
    "                chave AS chave_apresenta_pleurite,\n",
    "                valor AS descricao_apresenta_pleurite\n",
    "            FROM `basedosdados.br_ms_sinan.dicionario`\n",
    "            WHERE\n",
    "                TRUE\n",
    "                AND nome_coluna = 'apresenta_pleurite'\n",
    "                AND id_tabela = 'microdados_dengue'\n",
    "        ),\n",
    "        dicionario_apresenta_pericardite AS (\n",
    "            SELECT\n",
    "                chave AS chave_apresenta_pericardite,\n",
    "                valor AS descricao_apresenta_pericardite\n",
    "            FROM `basedosdados.br_ms_sinan.dicionario`\n",
    "            WHERE\n",
    "                TRUE\n",
    "                AND nome_coluna = 'apresenta_pericardite'\n",
    "                AND id_tabela = 'microdados_dengue'\n",
    "        ),\n",
    "        dicionario_apresenta_dor_abdominal AS (\n",
    "            SELECT\n",
    "                chave AS chave_apresenta_dor_abdominal,\n",
    "                valor AS descricao_apresenta_dor_abdominal\n",
    "            FROM `basedosdados.br_ms_sinan.dicionario`\n",
    "            WHERE\n",
    "                TRUE\n",
    "                AND nome_coluna = 'apresenta_dor_abdominal'\n",
    "                AND id_tabela = 'microdados_dengue'\n",
    "        ),\n",
    "        dicionario_apresenta_hepatomegalia AS (\n",
    "            SELECT\n",
    "                chave AS chave_apresenta_hepatomegalia,\n",
    "                valor AS descricao_apresenta_hepatomegalia\n",
    "            FROM `basedosdados.br_ms_sinan.dicionario`\n",
    "            WHERE\n",
    "                TRUE\n",
    "                AND nome_coluna = 'apresenta_hepatomegalia'\n",
    "                AND id_tabela = 'microdados_dengue'\n",
    "        ),\n",
    "        dicionario_apresenta_miocardite AS (\n",
    "            SELECT\n",
    "                chave AS chave_apresenta_miocardite,\n",
    "                valor AS descricao_apresenta_miocardite\n",
    "            FROM `basedosdados.br_ms_sinan.dicionario`\n",
    "            WHERE\n",
    "                TRUE\n",
    "                AND nome_coluna = 'apresenta_miocardite'\n",
    "                AND id_tabela = 'microdados_dengue'\n",
    "        ),\n",
    "        dicionario_apresenta_hipotensao AS (\n",
    "            SELECT\n",
    "                chave AS chave_apresenta_hipotensao,\n",
    "                valor AS descricao_apresenta_hipotensao\n",
    "            FROM `basedosdados.br_ms_sinan.dicionario`\n",
    "            WHERE\n",
    "                TRUE\n",
    "                AND nome_coluna = 'apresenta_hipotensao'\n",
    "                AND id_tabela = 'microdados_dengue'\n",
    "        ),\n",
    "        dicionario_apresenta_choque AS (\n",
    "            SELECT\n",
    "                chave AS chave_apresenta_choque,\n",
    "                valor AS descricao_apresenta_choque\n",
    "            FROM `basedosdados.br_ms_sinan.dicionario`\n",
    "            WHERE\n",
    "                TRUE\n",
    "                AND nome_coluna = 'apresenta_choque'\n",
    "                AND id_tabela = 'microdados_dengue'\n",
    "        ),\n",
    "        dicionario_apresenta_insuficiencia_orgao AS (\n",
    "            SELECT\n",
    "                chave AS chave_apresenta_insuficiencia_orgao,\n",
    "                valor AS descricao_apresenta_insuficiencia_orgao\n",
    "            FROM `basedosdados.br_ms_sinan.dicionario`\n",
    "            WHERE\n",
    "                TRUE\n",
    "                AND nome_coluna = 'apresenta_insuficiencia_orgao'\n",
    "                AND id_tabela = 'microdados_dengue'\n",
    "        ),\n",
    "        dicionario_apresenta_sintoma_outro AS (\n",
    "            SELECT\n",
    "                chave AS chave_apresenta_sintoma_outro,\n",
    "                valor AS descricao_apresenta_sintoma_outro\n",
    "            FROM `basedosdados.br_ms_sinan.dicionario`\n",
    "            WHERE\n",
    "                TRUE\n",
    "                AND nome_coluna = 'apresenta_sintoma_outro'\n",
    "                AND id_tabela = 'microdados_dengue'\n",
    "        ),\n",
    "        dicionario_apresenta_qual_sintoma AS (\n",
    "            SELECT\n",
    "                chave AS chave_apresenta_qual_sintoma,\n",
    "                valor AS descricao_apresenta_qual_sintoma\n",
    "            FROM `basedosdados.br_ms_sinan.dicionario`\n",
    "            WHERE\n",
    "                TRUE\n",
    "                AND nome_coluna = 'apresenta_qual_sintoma'\n",
    "                AND id_tabela = 'microdados_dengue'\n",
    "        ),\n",
    "        dicionario_prova_laco AS (\n",
    "            SELECT\n",
    "                chave AS chave_prova_laco,\n",
    "                valor AS descricao_prova_laco\n",
    "            FROM `basedosdados.br_ms_sinan.dicionario`\n",
    "            WHERE\n",
    "                TRUE\n",
    "                AND nome_coluna = 'prova_laco'\n",
    "                AND id_tabela = 'microdados_dengue'\n",
    "        ),\n",
    "        dicionario_internacao AS (\n",
    "            SELECT\n",
    "                chave AS chave_internacao,\n",
    "                valor AS descricao_internacao\n",
    "            FROM `basedosdados.br_ms_sinan.dicionario`\n",
    "            WHERE\n",
    "                TRUE\n",
    "                AND nome_coluna = 'internacao'\n",
    "                AND id_tabela = 'microdados_dengue'\n",
    "        ),\n",
    "        dicionario_hematocrito_maior AS (\n",
    "            SELECT\n",
    "                chave AS chave_hematocrito_maior,\n",
    "                valor AS descricao_hematocrito_maior\n",
    "            FROM `basedosdados.br_ms_sinan.dicionario`\n",
    "            WHERE\n",
    "                TRUE\n",
    "                AND nome_coluna = 'hematocrito_maior'\n",
    "                AND id_tabela = 'microdados_dengue'\n",
    "        ),\n",
    "        dicionario_plaqueta_maior AS (\n",
    "            SELECT\n",
    "                chave AS chave_plaqueta_maior,\n",
    "                valor AS descricao_plaqueta_maior\n",
    "            FROM `basedosdados.br_ms_sinan.dicionario`\n",
    "            WHERE\n",
    "                TRUE\n",
    "                AND nome_coluna = 'plaqueta_maior'\n",
    "                AND id_tabela = 'microdados_dengue'\n",
    "        ),\n",
    "        dicionario_hematocrito_menor AS (\n",
    "            SELECT\n",
    "                chave AS chave_hematocrito_menor,\n",
    "                valor AS descricao_hematocrito_menor\n",
    "            FROM `basedosdados.br_ms_sinan.dicionario`\n",
    "            WHERE\n",
    "                TRUE\n",
    "                AND nome_coluna = 'hematocrito_menor'\n",
    "                AND id_tabela = 'microdados_dengue'\n",
    "        ),\n",
    "        dicionario_plaqueta_menor AS (\n",
    "            SELECT\n",
    "                chave AS chave_plaqueta_menor,\n",
    "                valor AS descricao_plaqueta_menor\n",
    "            FROM `basedosdados.br_ms_sinan.dicionario`\n",
    "            WHERE\n",
    "                TRUE\n",
    "                AND nome_coluna = 'plaqueta_menor'\n",
    "                AND id_tabela = 'microdados_dengue'\n",
    "        ),\n",
    "        dicionario_resultado_sorologia1_chikungunya AS (\n",
    "            SELECT\n",
    "                chave AS chave_resultado_sorologia1_chikungunya,\n",
    "                valor AS descricao_resultado_sorologia1_chikungunya\n",
    "            FROM `basedosdados.br_ms_sinan.dicionario`\n",
    "            WHERE\n",
    "                TRUE\n",
    "                AND nome_coluna = 'resultado_sorologia1_chikungunya'\n",
    "                AND id_tabela = 'microdados_dengue'\n",
    "        ),\n",
    "        dicionario_sorologia1_igm AS (\n",
    "            SELECT\n",
    "                chave AS chave_sorologia1_igm,\n",
    "                valor AS descricao_sorologia1_igm\n",
    "            FROM `basedosdados.br_ms_sinan.dicionario`\n",
    "            WHERE\n",
    "                TRUE\n",
    "                AND nome_coluna = 'sorologia1_igm'\n",
    "                AND id_tabela = 'microdados_dengue'\n",
    "        ),\n",
    "        dicionario_sorologia1_igg AS (\n",
    "            SELECT\n",
    "                chave AS chave_sorologia1_igg,\n",
    "                valor AS descricao_sorologia1_igg\n",
    "            FROM `basedosdados.br_ms_sinan.dicionario`\n",
    "            WHERE\n",
    "                TRUE\n",
    "                AND nome_coluna = 'sorologia1_igg'\n",
    "                AND id_tabela = 'microdados_dengue'\n",
    "        ),\n",
    "        dicionario_sorologia1_tit1 AS (\n",
    "            SELECT\n",
    "                chave AS chave_sorologia1_tit1,\n",
    "                valor AS descricao_sorologia1_tit1\n",
    "            FROM `basedosdados.br_ms_sinan.dicionario`\n",
    "            WHERE\n",
    "                TRUE\n",
    "                AND nome_coluna = 'sorologia1_tit1'\n",
    "                AND id_tabela = 'microdados_dengue'\n",
    "        ),\n",
    "        dicionario_resultado_sorologia2_chikungunya AS (\n",
    "            SELECT\n",
    "                chave AS chave_resultado_sorologia2_chikungunya,\n",
    "                valor AS descricao_resultado_sorologia2_chikungunya\n",
    "            FROM `basedosdados.br_ms_sinan.dicionario`\n",
    "            WHERE\n",
    "                TRUE\n",
    "                AND nome_coluna = 'resultado_sorologia2_chikungunya'\n",
    "                AND id_tabela = 'microdados_dengue'\n",
    "        ),\n",
    "        dicionario_sorologia2_igm AS (\n",
    "            SELECT\n",
    "                chave AS chave_sorologia2_igm,\n",
    "                valor AS descricao_sorologia2_igm\n",
    "            FROM `basedosdados.br_ms_sinan.dicionario`\n",
    "            WHERE\n",
    "                TRUE\n",
    "                AND nome_coluna = 'sorologia2_igm'\n",
    "                AND id_tabela = 'microdados_dengue'\n",
    "        ),\n",
    "        dicionario_sorologia2_igg AS (\n",
    "            SELECT\n",
    "                chave AS chave_sorologia2_igg,\n",
    "                valor AS descricao_sorologia2_igg\n",
    "            FROM `basedosdados.br_ms_sinan.dicionario`\n",
    "            WHERE\n",
    "                TRUE\n",
    "                AND nome_coluna = 'sorologia2_igg'\n",
    "                AND id_tabela = 'microdados_dengue'\n",
    "        ),\n",
    "        dicionario_sorologia2_tit1 AS (\n",
    "            SELECT\n",
    "                chave AS chave_sorologia2_tit1,\n",
    "                valor AS descricao_sorologia2_tit1\n",
    "            FROM `basedosdados.br_ms_sinan.dicionario`\n",
    "            WHERE\n",
    "                TRUE\n",
    "                AND nome_coluna = 'sorologia2_tit1'\n",
    "                AND id_tabela = 'microdados_dengue'\n",
    "        ),\n",
    "        dicionario_resultado_prnt AS (\n",
    "            SELECT\n",
    "                chave AS chave_resultado_prnt,\n",
    "                valor AS descricao_resultado_prnt\n",
    "            FROM `basedosdados.br_ms_sinan.dicionario`\n",
    "            WHERE\n",
    "                TRUE\n",
    "                AND nome_coluna = 'resultado_prnt'\n",
    "                AND id_tabela = 'microdados_dengue'\n",
    "        ),\n",
    "        dicionario_resultado_ns1 AS (\n",
    "            SELECT\n",
    "                chave AS chave_resultado_ns1,\n",
    "                valor AS descricao_resultado_ns1\n",
    "            FROM `basedosdados.br_ms_sinan.dicionario`\n",
    "            WHERE\n",
    "                TRUE\n",
    "                AND nome_coluna = 'resultado_ns1'\n",
    "                AND id_tabela = 'microdados_dengue'\n",
    "        ),\n",
    "        dicionario_resultado_viral AS (\n",
    "            SELECT\n",
    "                chave AS chave_resultado_viral,\n",
    "                valor AS descricao_resultado_viral\n",
    "            FROM `basedosdados.br_ms_sinan.dicionario`\n",
    "            WHERE\n",
    "                TRUE\n",
    "                AND nome_coluna = 'resultado_viral'\n",
    "                AND id_tabela = 'microdados_dengue'\n",
    "        ),\n",
    "        dicionario_resultado_pcr AS (\n",
    "            SELECT\n",
    "                chave AS chave_resultado_pcr,\n",
    "                valor AS descricao_resultado_pcr\n",
    "            FROM `basedosdados.br_ms_sinan.dicionario`\n",
    "            WHERE\n",
    "                TRUE\n",
    "                AND nome_coluna = 'resultado_pcr'\n",
    "                AND id_tabela = 'microdados_dengue'\n",
    "        ),\n",
    "        dicionario_amostra_pcr AS (\n",
    "            SELECT\n",
    "                chave AS chave_amostra_pcr,\n",
    "                valor AS descricao_amostra_pcr\n",
    "            FROM `basedosdados.br_ms_sinan.dicionario`\n",
    "            WHERE\n",
    "                TRUE\n",
    "                AND nome_coluna = 'amostra_pcr'\n",
    "                AND id_tabela = 'microdados_dengue'\n",
    "        ),\n",
    "        dicionario_amostra_outra AS (\n",
    "            SELECT\n",
    "                chave AS chave_amostra_outra,\n",
    "                valor AS descricao_amostra_outra\n",
    "            FROM `basedosdados.br_ms_sinan.dicionario`\n",
    "            WHERE\n",
    "                TRUE\n",
    "                AND nome_coluna = 'amostra_outra'\n",
    "                AND id_tabela = 'microdados_dengue'\n",
    "        ),\n",
    "        dicionario_tecnica AS (\n",
    "            SELECT\n",
    "                chave AS chave_tecnica,\n",
    "                valor AS descricao_tecnica\n",
    "            FROM `basedosdados.br_ms_sinan.dicionario`\n",
    "            WHERE\n",
    "                TRUE\n",
    "                AND nome_coluna = 'tecnica'\n",
    "                AND id_tabela = 'microdados_dengue'\n",
    "        ),\n",
    "        dicionario_resultado_amostra_outra AS (\n",
    "            SELECT\n",
    "                chave AS chave_resultado_amostra_outra,\n",
    "                valor AS descricao_resultado_amostra_outra\n",
    "            FROM `basedosdados.br_ms_sinan.dicionario`\n",
    "            WHERE\n",
    "                TRUE\n",
    "                AND nome_coluna = 'resultado_amostra_outra'\n",
    "                AND id_tabela = 'microdados_dengue'\n",
    "        ),\n",
    "        dicionario_resultado_sorologia_dengue AS (\n",
    "            SELECT\n",
    "                chave AS chave_resultado_sorologia_dengue,\n",
    "                valor AS descricao_resultado_sorologia_dengue\n",
    "            FROM `basedosdados.br_ms_sinan.dicionario`\n",
    "            WHERE\n",
    "                TRUE\n",
    "                AND nome_coluna = 'resultado_sorologia_dengue'\n",
    "                AND id_tabela = 'microdados_dengue'\n",
    "        ),\n",
    "        dicionario_sorotipo AS (\n",
    "            SELECT\n",
    "                chave AS chave_sorotipo,\n",
    "                valor AS descricao_sorotipo\n",
    "            FROM `basedosdados.br_ms_sinan.dicionario`\n",
    "            WHERE\n",
    "                TRUE\n",
    "                AND nome_coluna = 'sorotipo'\n",
    "                AND id_tabela = 'microdados_dengue'\n",
    "        ),\n",
    "        dicionario_histopatologia AS (\n",
    "            SELECT\n",
    "                chave AS chave_histopatologia,\n",
    "                valor AS descricao_histopatologia\n",
    "            FROM `basedosdados.br_ms_sinan.dicionario`\n",
    "            WHERE\n",
    "                TRUE\n",
    "                AND nome_coluna = 'histopatologia'\n",
    "                AND id_tabela = 'microdados_dengue'\n",
    "        ),\n",
    "        dicionario_imunohistoquimica AS (\n",
    "            SELECT\n",
    "                chave AS chave_imunohistoquimica,\n",
    "                valor AS descricao_imunohistoquimica\n",
    "            FROM `basedosdados.br_ms_sinan.dicionario`\n",
    "            WHERE\n",
    "                TRUE\n",
    "                AND nome_coluna = 'imunohistoquimica'\n",
    "                AND id_tabela = 'microdados_dengue'\n",
    "        ),\n",
    "        dicionario_manifestacao_hemorragica AS (\n",
    "            SELECT\n",
    "                chave AS chave_manifestacao_hemorragica,\n",
    "                valor AS descricao_manifestacao_hemorragica\n",
    "            FROM `basedosdados.br_ms_sinan.dicionario`\n",
    "            WHERE\n",
    "                TRUE\n",
    "                AND nome_coluna = 'manifestacao_hemorragica'\n",
    "                AND id_tabela = 'microdados_dengue'\n",
    "        ),\n",
    "        dicionario_classificacao_final AS (\n",
    "            SELECT\n",
    "                chave AS chave_classificacao_final,\n",
    "                valor AS descricao_classificacao_final\n",
    "            FROM `basedosdados.br_ms_sinan.dicionario`\n",
    "            WHERE\n",
    "                TRUE\n",
    "                AND nome_coluna = 'classificacao_final'\n",
    "                AND id_tabela = 'microdados_dengue'\n",
    "        ),\n",
    "        dicionario_criterio_confirmacao AS (\n",
    "            SELECT\n",
    "                chave AS chave_criterio_confirmacao,\n",
    "                valor AS descricao_criterio_confirmacao\n",
    "            FROM `basedosdados.br_ms_sinan.dicionario`\n",
    "            WHERE\n",
    "                TRUE\n",
    "                AND nome_coluna = 'criterio_confirmacao'\n",
    "                AND id_tabela = 'microdados_dengue'\n",
    "        ),\n",
    "        dicionario_caso_fhd AS (\n",
    "            SELECT\n",
    "                chave AS chave_caso_fhd,\n",
    "                valor AS descricao_caso_fhd\n",
    "            FROM `basedosdados.br_ms_sinan.dicionario`\n",
    "            WHERE\n",
    "                TRUE\n",
    "                AND nome_coluna = 'caso_fhd'\n",
    "                AND id_tabela = 'microdados_dengue'\n",
    "        ),\n",
    "        dicionario_caso_autoctone AS (\n",
    "            SELECT\n",
    "                chave AS chave_caso_autoctone,\n",
    "                valor AS descricao_caso_autoctone\n",
    "            FROM `basedosdados.br_ms_sinan.dicionario`\n",
    "            WHERE\n",
    "                TRUE\n",
    "                AND nome_coluna = 'caso_autoctone'\n",
    "                AND id_tabela = 'microdados_dengue'\n",
    "        ),\n",
    "        dicionario_pais_infeccao AS (\n",
    "            SELECT\n",
    "                chave AS chave_pais_infeccao,\n",
    "                valor AS descricao_pais_infeccao\n",
    "            FROM `basedosdados.br_ms_sinan.dicionario`\n",
    "            WHERE\n",
    "                TRUE\n",
    "                AND nome_coluna = 'pais_infeccao'\n",
    "                AND id_tabela = 'microdados_dengue'\n",
    "        ),\n",
    "        dicionario_doenca_trabalho AS (\n",
    "            SELECT\n",
    "                chave AS chave_doenca_trabalho,\n",
    "                valor AS descricao_doenca_trabalho\n",
    "            FROM `basedosdados.br_ms_sinan.dicionario`\n",
    "            WHERE\n",
    "                TRUE\n",
    "                AND nome_coluna = 'doenca_trabalho'\n",
    "                AND id_tabela = 'microdados_dengue'\n",
    "        ),\n",
    "        dicionario_apresentacao_clinica AS (\n",
    "            SELECT\n",
    "                chave AS chave_apresentacao_clinica,\n",
    "                valor AS descricao_apresentacao_clinica\n",
    "            FROM `basedosdados.br_ms_sinan.dicionario`\n",
    "            WHERE\n",
    "                TRUE\n",
    "                AND nome_coluna = 'apresentacao_clinica'\n",
    "                AND id_tabela = 'microdados_dengue'\n",
    "        ),\n",
    "        dicionario_evolucao_caso AS (\n",
    "            SELECT\n",
    "                chave AS chave_evolucao_caso,\n",
    "                valor AS descricao_evolucao_caso\n",
    "            FROM `basedosdados.br_ms_sinan.dicionario`\n",
    "            WHERE\n",
    "                TRUE\n",
    "                AND nome_coluna = 'evolucao_caso'\n",
    "                AND id_tabela = 'microdados_dengue'\n",
    "        ),\n",
    "        dicionario_tipo_sistema AS (\n",
    "            SELECT\n",
    "                chave AS chave_tipo_sistema,\n",
    "                valor AS descricao_tipo_sistema\n",
    "            FROM `basedosdados.br_ms_sinan.dicionario`\n",
    "            WHERE\n",
    "                TRUE\n",
    "                AND nome_coluna = 'tipo_sistema'\n",
    "                AND id_tabela = 'microdados_dengue'\n",
    "        )\n",
    "        SELECT\n",
    "            dados.ano as ano,\n",
    "            descricao_tipo_notificacao AS tipo_notificacao,\n",
    "            dados.id_agravo as id_agravo,\n",
    "            dados.data_notificacao as data_notificacao,\n",
    "            dados.semana_notificacao as semana_notificacao,\n",
    "            dados.sigla_uf_notificacao AS sigla_uf_notificacao,\n",
    "            diretorio_sigla_uf_notificacao.nome AS sigla_uf_notificacao_nome,\n",
    "            dados.id_regional_saude_notificacao as id_regional_saude_notificacao,\n",
    "            dados.id_municipio_notificacao AS id_municipio_notificacao,\n",
    "            diretorio_id_municipio_notificacao.nome AS id_municipio_notificacao_nome,\n",
    "            dados.id_estabelecimento as id_estabelecimento,\n",
    "            dados.data_primeiros_sintomas as data_primeiros_sintomas,\n",
    "            dados.semana_sintomas as semana_sintomas,\n",
    "            dados.pais_residencia as pais_residencia,\n",
    "            dados.sigla_uf_residencia AS sigla_uf_residencia,\n",
    "            diretorio_sigla_uf_residencia.nome AS sigla_uf_residencia_nome,\n",
    "            dados.id_regional_saude_residencia as id_regional_saude_residencia,\n",
    "            dados.id_municipio_residencia AS id_municipio_residencia,\n",
    "            diretorio_id_municipio_residencia.nome AS id_municipio_residencia_nome,\n",
    "            dados.ano_nascimento_paciente as ano_nascimento_paciente,\n",
    "            dados.data_nascimento_paciente as data_nascimento_paciente,\n",
    "            dados.idade_paciente as idade_paciente,\n",
    "            descricao_sexo_paciente AS sexo_paciente,\n",
    "            descricao_raca_cor_paciente AS raca_cor_paciente,\n",
    "            descricao_escolaridade_paciente AS escolaridade_paciente,\n",
    "            dados.ocupacao_paciente AS ocupacao_paciente,\n",
    "            diretorio_ocupacao_paciente.descricao AS ocupacao_paciente_descricao,\n",
    "            diretorio_ocupacao_paciente.descricao_familia AS ocupacao_paciente_descricao_familia,\n",
    "            diretorio_ocupacao_paciente.descricao_subgrupo AS ocupacao_paciente_descricao_subgrupo,\n",
    "            diretorio_ocupacao_paciente.descricao_subgrupo_principal AS ocupacao_paciente_descricao_subgrupo_principal,\n",
    "            diretorio_ocupacao_paciente.descricao_grande_grupo AS ocupacao_paciente_descricao_grande_grupo,\n",
    "            descricao_gestante_paciente AS gestante_paciente,\n",
    "            descricao_possui_doenca_autoimune AS possui_doenca_autoimune,\n",
    "            descricao_possui_diabetes AS possui_diabetes,\n",
    "            descricao_possui_doencas_hematologicas AS possui_doencas_hematologicas,\n",
    "            descricao_possui_hepatopatias AS possui_hepatopatias,\n",
    "            descricao_possui_doenca_renal AS possui_doenca_renal,\n",
    "            descricao_possui_hipertensao AS possui_hipertensao,\n",
    "            descricao_possui_doenca_acido_peptica AS possui_doenca_acido_peptica,\n",
    "            descricao_paciente_vacinado AS paciente_vacinado,\n",
    "            dados.data_vacina as data_vacina,\n",
    "            dados.data_investigacao as data_investigacao,\n",
    "            dados.apresenta_febre as apresenta_febre,\n",
    "            dados.data_febre as data_febre,\n",
    "            descricao_duracao_febre AS duracao_febre,\n",
    "            descricao_apresenta_cefaleia AS apresenta_cefaleia,\n",
    "            descricao_apresenta_exantema AS apresenta_exantema,\n",
    "            descricao_apresenta_dor_costas AS apresenta_dor_costas,\n",
    "            descricao_apresenta_prostacao AS apresenta_prostacao,\n",
    "            descricao_apresenta_mialgia AS apresenta_mialgia,\n",
    "            descricao_apresenta_vomito AS apresenta_vomito,\n",
    "            descricao_apresenta_nausea AS apresenta_nausea,\n",
    "            descricao_apresenta_diarreia AS apresenta_diarreia,\n",
    "            descricao_apresenta_conjutivite AS apresenta_conjutivite,\n",
    "            descricao_apresenta_dor_retroorbital AS apresenta_dor_retroorbital,\n",
    "            descricao_apresenta_artralgia AS apresenta_artralgia,\n",
    "            descricao_apresenta_artrite AS apresenta_artrite,\n",
    "            descricao_apresenta_leucopenia AS apresenta_leucopenia,\n",
    "            descricao_apresenta_epistaxe AS apresenta_epistaxe,\n",
    "            descricao_apresenta_petequias AS apresenta_petequias,\n",
    "            descricao_apresenta_gengivorragia AS apresenta_gengivorragia,\n",
    "            descricao_apresenta_metrorragia AS apresenta_metrorragia,\n",
    "            descricao_apresenta_hematuria AS apresenta_hematuria,\n",
    "            descricao_apresenta_sangramento AS apresenta_sangramento,\n",
    "            descricao_apresenta_complicacao AS apresenta_complicacao,\n",
    "            descricao_apresenta_ascite AS apresenta_ascite,\n",
    "            descricao_apresenta_pleurite AS apresenta_pleurite,\n",
    "            descricao_apresenta_pericardite AS apresenta_pericardite,\n",
    "            descricao_apresenta_dor_abdominal AS apresenta_dor_abdominal,\n",
    "            descricao_apresenta_hepatomegalia AS apresenta_hepatomegalia,\n",
    "            descricao_apresenta_miocardite AS apresenta_miocardite,\n",
    "            descricao_apresenta_hipotensao AS apresenta_hipotensao,\n",
    "            descricao_apresenta_choque AS apresenta_choque,\n",
    "            descricao_apresenta_insuficiencia_orgao AS apresenta_insuficiencia_orgao,\n",
    "            descricao_apresenta_sintoma_outro AS apresenta_sintoma_outro,\n",
    "            descricao_apresenta_qual_sintoma AS apresenta_qual_sintoma,\n",
    "            descricao_prova_laco AS prova_laco,\n",
    "            descricao_internacao AS internacao,\n",
    "            dados.data_internacao as data_internacao,\n",
    "            dados.sigla_uf_internacao AS sigla_uf_internacao,\n",
    "            diretorio_sigla_uf_internacao.nome AS sigla_uf_internacao_nome,\n",
    "            dados.id_municipio_internacao AS id_municipio_internacao,\n",
    "            diretorio_id_municipio_internacao.nome AS id_municipio_internacao_nome,\n",
    "            dados.alarme_hipotensao as alarme_hipotensao,\n",
    "            dados.alarme_plaqueta as alarme_plaqueta,\n",
    "            dados.alarme_vomito as alarme_vomito,\n",
    "            dados.alarme_sangramento as alarme_sangramento,\n",
    "            dados.alarme_hematocrito as alarme_hematocrito,\n",
    "            dados.alarme_dor_abdominal as alarme_dor_abdominal,\n",
    "            dados.alarme_letargia as alarme_letargia,\n",
    "            dados.alarme_hepatomegalia as alarme_hepatomegalia,\n",
    "            dados.alarme_liquidos as alarme_liquidos,\n",
    "            dados.data_alarme as data_alarme,\n",
    "            dados.grave_pulso as grave_pulso,\n",
    "            dados.grave_convulsao as grave_convulsao,\n",
    "            dados.grave_enchimento_capilar as grave_enchimento_capilar,\n",
    "            dados.grave_insuficiencia_respiratoria as grave_insuficiencia_respiratoria,\n",
    "            dados.grave_taquicardia as grave_taquicardia,\n",
    "            dados.grave_extremidade_fria as grave_extremidade_fria,\n",
    "            dados.grave_hipotensao as grave_hipotensao,\n",
    "            dados.grave_hematemese as grave_hematemese,\n",
    "            dados.grave_melena as grave_melena,\n",
    "            dados.grave_metrorragia as grave_metrorragia,\n",
    "            dados.grave_sangramento as grave_sangramento,\n",
    "            dados.grave_ast_alt as grave_ast_alt,\n",
    "            dados.grave_miocardite as grave_miocardite,\n",
    "            dados.grave_consciencia as grave_consciencia,\n",
    "            dados.grave_orgaos as grave_orgaos,\n",
    "            dados.data_hematocrito as data_hematocrito,\n",
    "            descricao_hematocrito_maior AS hematocrito_maior,\n",
    "            dados.data_plaquetas as data_plaquetas,\n",
    "            descricao_plaqueta_maior AS plaqueta_maior,\n",
    "            dados.data_hematocrito_2 as data_hematocrito_2,\n",
    "            descricao_hematocrito_menor AS hematocrito_menor,\n",
    "            dados.data_plaquetas_2 as data_plaquetas_2,\n",
    "            descricao_plaqueta_menor AS plaqueta_menor,\n",
    "            dados.data_sorologia1_chikungunya as data_sorologia1_chikungunya,\n",
    "            dados.data_resultado_sorologia1_chikungunya as data_resultado_sorologia1_chikungunya,\n",
    "            descricao_resultado_sorologia1_chikungunya AS resultado_sorologia1_chikungunya,\n",
    "            descricao_sorologia1_igm AS sorologia1_igm,\n",
    "            descricao_sorologia1_igg AS sorologia1_igg,\n",
    "            descricao_sorologia1_tit1 AS sorologia1_tit1,\n",
    "            descricao_resultado_sorologia2_chikungunya AS resultado_sorologia2_chikungunya,\n",
    "            descricao_sorologia2_igm AS sorologia2_igm,\n",
    "            descricao_sorologia2_igg AS sorologia2_igg,\n",
    "            descricao_sorologia2_tit1 AS sorologia2_tit1,\n",
    "            descricao_resultado_prnt AS resultado_prnt,\n",
    "            dados.data_ns1 as data_ns1,\n",
    "            descricao_resultado_ns1 AS resultado_ns1,\n",
    "            dados.data_viral as data_viral,\n",
    "            descricao_resultado_viral AS resultado_viral,\n",
    "            dados.data_pcr as data_pcr,\n",
    "            descricao_resultado_pcr AS resultado_pcr,\n",
    "            descricao_amostra_pcr AS amostra_pcr,\n",
    "            descricao_amostra_outra AS amostra_outra,\n",
    "            descricao_tecnica AS tecnica,\n",
    "            descricao_resultado_amostra_outra AS resultado_amostra_outra,\n",
    "            dados.data_sorologia_dengue as data_sorologia_dengue,\n",
    "            descricao_resultado_sorologia_dengue AS resultado_sorologia_dengue,\n",
    "            descricao_sorotipo AS sorotipo,\n",
    "            descricao_histopatologia AS histopatologia,\n",
    "            descricao_imunohistoquimica AS imunohistoquimica,\n",
    "            descricao_manifestacao_hemorragica AS manifestacao_hemorragica,\n",
    "            descricao_classificacao_final AS classificacao_final,\n",
    "            descricao_criterio_confirmacao AS criterio_confirmacao,\n",
    "            descricao_caso_fhd AS caso_fhd,\n",
    "            descricao_caso_autoctone AS caso_autoctone,\n",
    "            descricao_pais_infeccao AS pais_infeccao,\n",
    "            dados.sigla_uf_infeccao AS sigla_uf_infeccao,\n",
    "            diretorio_sigla_uf_infeccao.nome AS sigla_uf_infeccao_nome,\n",
    "            dados.id_municipio_infeccao AS id_municipio_infeccao,\n",
    "            diretorio_id_municipio_infeccao.nome AS id_municipio_infeccao_nome,\n",
    "            descricao_doenca_trabalho AS doenca_trabalho,\n",
    "            descricao_apresentacao_clinica AS apresentacao_clinica,\n",
    "            descricao_evolucao_caso AS evolucao_caso,\n",
    "            dados.data_obito as data_obito,\n",
    "            dados.data_encerramento as data_encerramento,\n",
    "            descricao_tipo_sistema AS tipo_sistema,\n",
    "            dados.data_digitacao as data_digitacao\n",
    "        FROM `basedosdados.br_ms_sinan.microdados_dengue` AS dados\n",
    "        LEFT JOIN `dicionario_tipo_notificacao`\n",
    "            ON dados.tipo_notificacao = chave_tipo_notificacao\n",
    "        LEFT JOIN (SELECT DISTINCT sigla,nome  FROM `basedosdados.br_bd_diretorios_brasil.uf`) AS diretorio_sigla_uf_notificacao\n",
    "            ON dados.sigla_uf_notificacao = diretorio_sigla_uf_notificacao.sigla\n",
    "        LEFT JOIN (SELECT DISTINCT id_municipio,nome  FROM `basedosdados.br_bd_diretorios_brasil.municipio`) AS diretorio_id_municipio_notificacao\n",
    "            ON dados.id_municipio_notificacao = diretorio_id_municipio_notificacao.id_municipio\n",
    "        LEFT JOIN (SELECT DISTINCT sigla,nome  FROM `basedosdados.br_bd_diretorios_brasil.uf`) AS diretorio_sigla_uf_residencia\n",
    "            ON dados.sigla_uf_residencia = diretorio_sigla_uf_residencia.sigla\n",
    "        LEFT JOIN (SELECT DISTINCT id_municipio,nome  FROM `basedosdados.br_bd_diretorios_brasil.municipio`) AS diretorio_id_municipio_residencia\n",
    "            ON dados.id_municipio_residencia = diretorio_id_municipio_residencia.id_municipio\n",
    "        LEFT JOIN `dicionario_sexo_paciente`\n",
    "            ON dados.sexo_paciente = chave_sexo_paciente\n",
    "        LEFT JOIN `dicionario_raca_cor_paciente`\n",
    "            ON dados.raca_cor_paciente = chave_raca_cor_paciente\n",
    "        LEFT JOIN `dicionario_escolaridade_paciente`\n",
    "            ON dados.escolaridade_paciente = chave_escolaridade_paciente\n",
    "        LEFT JOIN (SELECT DISTINCT cbo_2002,descricao,descricao_familia,descricao_subgrupo,descricao_subgrupo_principal,descricao_grande_grupo  FROM `basedosdados.br_bd_diretorios_brasil.cbo_2002`) AS diretorio_ocupacao_paciente\n",
    "            ON dados.ocupacao_paciente = diretorio_ocupacao_paciente.cbo_2002\n",
    "        LEFT JOIN `dicionario_gestante_paciente`\n",
    "            ON dados.gestante_paciente = chave_gestante_paciente\n",
    "        LEFT JOIN `dicionario_possui_doenca_autoimune`\n",
    "            ON dados.possui_doenca_autoimune = chave_possui_doenca_autoimune\n",
    "        LEFT JOIN `dicionario_possui_diabetes`\n",
    "            ON dados.possui_diabetes = chave_possui_diabetes\n",
    "        LEFT JOIN `dicionario_possui_doencas_hematologicas`\n",
    "            ON dados.possui_doencas_hematologicas = chave_possui_doencas_hematologicas\n",
    "        LEFT JOIN `dicionario_possui_hepatopatias`\n",
    "            ON dados.possui_hepatopatias = chave_possui_hepatopatias\n",
    "        LEFT JOIN `dicionario_possui_doenca_renal`\n",
    "            ON dados.possui_doenca_renal = chave_possui_doenca_renal\n",
    "        LEFT JOIN `dicionario_possui_hipertensao`\n",
    "            ON dados.possui_hipertensao = chave_possui_hipertensao\n",
    "        LEFT JOIN `dicionario_possui_doenca_acido_peptica`\n",
    "            ON dados.possui_doenca_acido_peptica = chave_possui_doenca_acido_peptica\n",
    "        LEFT JOIN `dicionario_paciente_vacinado`\n",
    "            ON dados.paciente_vacinado = chave_paciente_vacinado\n",
    "        LEFT JOIN `dicionario_duracao_febre`\n",
    "            ON dados.duracao_febre = chave_duracao_febre\n",
    "        LEFT JOIN `dicionario_apresenta_cefaleia`\n",
    "            ON dados.apresenta_cefaleia = chave_apresenta_cefaleia\n",
    "        LEFT JOIN `dicionario_apresenta_exantema`\n",
    "            ON dados.apresenta_exantema = chave_apresenta_exantema\n",
    "        LEFT JOIN `dicionario_apresenta_dor_costas`\n",
    "            ON dados.apresenta_dor_costas = chave_apresenta_dor_costas\n",
    "        LEFT JOIN `dicionario_apresenta_prostacao`\n",
    "            ON dados.apresenta_prostacao = chave_apresenta_prostacao\n",
    "        LEFT JOIN `dicionario_apresenta_mialgia`\n",
    "            ON dados.apresenta_mialgia = chave_apresenta_mialgia\n",
    "        LEFT JOIN `dicionario_apresenta_vomito`\n",
    "            ON dados.apresenta_vomito = chave_apresenta_vomito\n",
    "        LEFT JOIN `dicionario_apresenta_nausea`\n",
    "            ON dados.apresenta_nausea = chave_apresenta_nausea\n",
    "        LEFT JOIN `dicionario_apresenta_diarreia`\n",
    "            ON dados.apresenta_diarreia = chave_apresenta_diarreia\n",
    "        LEFT JOIN `dicionario_apresenta_conjutivite`\n",
    "            ON dados.apresenta_conjutivite = chave_apresenta_conjutivite\n",
    "        LEFT JOIN `dicionario_apresenta_dor_retroorbital`\n",
    "            ON dados.apresenta_dor_retroorbital = chave_apresenta_dor_retroorbital\n",
    "        LEFT JOIN `dicionario_apresenta_artralgia`\n",
    "            ON dados.apresenta_artralgia = chave_apresenta_artralgia\n",
    "        LEFT JOIN `dicionario_apresenta_artrite`\n",
    "            ON dados.apresenta_artrite = chave_apresenta_artrite\n",
    "        LEFT JOIN `dicionario_apresenta_leucopenia`\n",
    "            ON dados.apresenta_leucopenia = chave_apresenta_leucopenia\n",
    "        LEFT JOIN `dicionario_apresenta_epistaxe`\n",
    "            ON dados.apresenta_epistaxe = chave_apresenta_epistaxe\n",
    "        LEFT JOIN `dicionario_apresenta_petequias`\n",
    "            ON dados.apresenta_petequias = chave_apresenta_petequias\n",
    "        LEFT JOIN `dicionario_apresenta_gengivorragia`\n",
    "            ON dados.apresenta_gengivorragia = chave_apresenta_gengivorragia\n",
    "        LEFT JOIN `dicionario_apresenta_metrorragia`\n",
    "            ON dados.apresenta_metrorragia = chave_apresenta_metrorragia\n",
    "        LEFT JOIN `dicionario_apresenta_hematuria`\n",
    "            ON dados.apresenta_hematuria = chave_apresenta_hematuria\n",
    "        LEFT JOIN `dicionario_apresenta_sangramento`\n",
    "            ON dados.apresenta_sangramento = chave_apresenta_sangramento\n",
    "        LEFT JOIN `dicionario_apresenta_complicacao`\n",
    "            ON dados.apresenta_complicacao = chave_apresenta_complicacao\n",
    "        LEFT JOIN `dicionario_apresenta_ascite`\n",
    "            ON dados.apresenta_ascite = chave_apresenta_ascite\n",
    "        LEFT JOIN `dicionario_apresenta_pleurite`\n",
    "            ON dados.apresenta_pleurite = chave_apresenta_pleurite\n",
    "        LEFT JOIN `dicionario_apresenta_pericardite`\n",
    "            ON dados.apresenta_pericardite = chave_apresenta_pericardite\n",
    "        LEFT JOIN `dicionario_apresenta_dor_abdominal`\n",
    "            ON dados.apresenta_dor_abdominal = chave_apresenta_dor_abdominal\n",
    "        LEFT JOIN `dicionario_apresenta_hepatomegalia`\n",
    "            ON dados.apresenta_hepatomegalia = chave_apresenta_hepatomegalia\n",
    "        LEFT JOIN `dicionario_apresenta_miocardite`\n",
    "            ON dados.apresenta_miocardite = chave_apresenta_miocardite\n",
    "        LEFT JOIN `dicionario_apresenta_hipotensao`\n",
    "            ON dados.apresenta_hipotensao = chave_apresenta_hipotensao\n",
    "        LEFT JOIN `dicionario_apresenta_choque`\n",
    "            ON dados.apresenta_choque = chave_apresenta_choque\n",
    "        LEFT JOIN `dicionario_apresenta_insuficiencia_orgao`\n",
    "            ON dados.apresenta_insuficiencia_orgao = chave_apresenta_insuficiencia_orgao\n",
    "        LEFT JOIN `dicionario_apresenta_sintoma_outro`\n",
    "            ON dados.apresenta_sintoma_outro = chave_apresenta_sintoma_outro\n",
    "        LEFT JOIN `dicionario_apresenta_qual_sintoma`\n",
    "            ON dados.apresenta_qual_sintoma = chave_apresenta_qual_sintoma\n",
    "        LEFT JOIN `dicionario_prova_laco`\n",
    "            ON dados.prova_laco = chave_prova_laco\n",
    "        LEFT JOIN `dicionario_internacao`\n",
    "            ON dados.internacao = chave_internacao\n",
    "        LEFT JOIN (SELECT DISTINCT sigla,nome  FROM `basedosdados.br_bd_diretorios_brasil.uf`) AS diretorio_sigla_uf_internacao\n",
    "            ON dados.sigla_uf_internacao = diretorio_sigla_uf_internacao.sigla\n",
    "        LEFT JOIN (SELECT DISTINCT id_municipio,nome  FROM `basedosdados.br_bd_diretorios_brasil.municipio`) AS diretorio_id_municipio_internacao\n",
    "            ON dados.id_municipio_internacao = diretorio_id_municipio_internacao.id_municipio\n",
    "        LEFT JOIN `dicionario_hematocrito_maior`\n",
    "            ON dados.hematocrito_maior = chave_hematocrito_maior\n",
    "        LEFT JOIN `dicionario_plaqueta_maior`\n",
    "            ON dados.plaqueta_maior = chave_plaqueta_maior\n",
    "        LEFT JOIN `dicionario_hematocrito_menor`\n",
    "            ON dados.hematocrito_menor = chave_hematocrito_menor\n",
    "        LEFT JOIN `dicionario_plaqueta_menor`\n",
    "            ON dados.plaqueta_menor = chave_plaqueta_menor\n",
    "        LEFT JOIN `dicionario_resultado_sorologia1_chikungunya`\n",
    "            ON dados.resultado_sorologia1_chikungunya = chave_resultado_sorologia1_chikungunya\n",
    "        LEFT JOIN `dicionario_sorologia1_igm`\n",
    "            ON dados.sorologia1_igm = chave_sorologia1_igm\n",
    "        LEFT JOIN `dicionario_sorologia1_igg`\n",
    "            ON dados.sorologia1_igg = chave_sorologia1_igg\n",
    "        LEFT JOIN `dicionario_sorologia1_tit1`\n",
    "            ON dados.sorologia1_tit1 = chave_sorologia1_tit1\n",
    "        LEFT JOIN `dicionario_resultado_sorologia2_chikungunya`\n",
    "            ON dados.resultado_sorologia2_chikungunya = chave_resultado_sorologia2_chikungunya\n",
    "        LEFT JOIN `dicionario_sorologia2_igm`\n",
    "            ON dados.sorologia2_igm = chave_sorologia2_igm\n",
    "        LEFT JOIN `dicionario_sorologia2_igg`\n",
    "            ON dados.sorologia2_igg = chave_sorologia2_igg\n",
    "        LEFT JOIN `dicionario_sorologia2_tit1`\n",
    "            ON dados.sorologia2_tit1 = chave_sorologia2_tit1\n",
    "        LEFT JOIN `dicionario_resultado_prnt`\n",
    "            ON dados.resultado_prnt = chave_resultado_prnt\n",
    "        LEFT JOIN `dicionario_resultado_ns1`\n",
    "            ON dados.resultado_ns1 = chave_resultado_ns1\n",
    "        LEFT JOIN `dicionario_resultado_viral`\n",
    "            ON dados.resultado_viral = chave_resultado_viral\n",
    "        LEFT JOIN `dicionario_resultado_pcr`\n",
    "            ON dados.resultado_pcr = chave_resultado_pcr\n",
    "        LEFT JOIN `dicionario_amostra_pcr`\n",
    "            ON dados.amostra_pcr = chave_amostra_pcr\n",
    "        LEFT JOIN `dicionario_amostra_outra`\n",
    "            ON dados.amostra_outra = chave_amostra_outra\n",
    "        LEFT JOIN `dicionario_tecnica`\n",
    "            ON dados.tecnica = chave_tecnica\n",
    "        LEFT JOIN `dicionario_resultado_amostra_outra`\n",
    "            ON dados.resultado_amostra_outra = chave_resultado_amostra_outra\n",
    "        LEFT JOIN `dicionario_resultado_sorologia_dengue`\n",
    "            ON dados.resultado_sorologia_dengue = chave_resultado_sorologia_dengue\n",
    "        LEFT JOIN `dicionario_sorotipo`\n",
    "            ON dados.sorotipo = chave_sorotipo\n",
    "        LEFT JOIN `dicionario_histopatologia`\n",
    "            ON dados.histopatologia = chave_histopatologia\n",
    "        LEFT JOIN `dicionario_imunohistoquimica`\n",
    "            ON dados.imunohistoquimica = chave_imunohistoquimica\n",
    "        LEFT JOIN `dicionario_manifestacao_hemorragica`\n",
    "            ON dados.manifestacao_hemorragica = chave_manifestacao_hemorragica\n",
    "        LEFT JOIN `dicionario_classificacao_final`\n",
    "            ON dados.classificacao_final = chave_classificacao_final\n",
    "        LEFT JOIN `dicionario_criterio_confirmacao`\n",
    "            ON dados.criterio_confirmacao = chave_criterio_confirmacao\n",
    "        LEFT JOIN `dicionario_caso_fhd`\n",
    "            ON dados.caso_fhd = chave_caso_fhd\n",
    "        LEFT JOIN `dicionario_caso_autoctone`\n",
    "            ON dados.caso_autoctone = chave_caso_autoctone\n",
    "        LEFT JOIN `dicionario_pais_infeccao`\n",
    "            ON dados.pais_infeccao = chave_pais_infeccao\n",
    "        LEFT JOIN (SELECT DISTINCT sigla,nome  FROM `basedosdados.br_bd_diretorios_brasil.uf`) AS diretorio_sigla_uf_infeccao\n",
    "            ON dados.sigla_uf_infeccao = diretorio_sigla_uf_infeccao.sigla\n",
    "        LEFT JOIN (SELECT DISTINCT id_municipio,nome  FROM `basedosdados.br_bd_diretorios_brasil.municipio`) AS diretorio_id_municipio_infeccao\n",
    "            ON dados.id_municipio_infeccao = diretorio_id_municipio_infeccao.id_municipio\n",
    "        LEFT JOIN `dicionario_doenca_trabalho`\n",
    "            ON dados.doenca_trabalho = chave_doenca_trabalho\n",
    "        LEFT JOIN `dicionario_apresentacao_clinica`\n",
    "            ON dados.apresentacao_clinica = chave_apresentacao_clinica\n",
    "        LEFT JOIN `dicionario_evolucao_caso`\n",
    "            ON dados.evolucao_caso = chave_evolucao_caso\n",
    "        LEFT JOIN `dicionario_tipo_sistema`\n",
    "            ON dados.tipo_sistema = chave_tipo_sistema\n",
    "where dados.ano = {ano}\n",
    "\"\"\"\n",
    " \n",
    "\n",
    "    df = bd.read_sql(query=query_analytical, billing_project_id=billing_id)\n",
    "    save_parquet_in_chunks(df,\n",
    "                           f\"data/staging/sinan/notificacoes/ano/{ano}/{ano}\",\n",
    "                           100,\n",
    "                           compression='brotli'\n",
    "                           ) "
   ]
  }
 ],
 "metadata": {
  "kernelspec": {
   "display_name": "Python 3",
   "language": "python",
   "name": "python3"
  },
  "language_info": {
   "codemirror_mode": {
    "name": "ipython",
    "version": 3
   },
   "file_extension": ".py",
   "mimetype": "text/x-python",
   "name": "python",
   "nbconvert_exporter": "python",
   "pygments_lexer": "ipython3",
   "version": "3.9.21"
  }
 },
 "nbformat": 4,
 "nbformat_minor": 5
}
